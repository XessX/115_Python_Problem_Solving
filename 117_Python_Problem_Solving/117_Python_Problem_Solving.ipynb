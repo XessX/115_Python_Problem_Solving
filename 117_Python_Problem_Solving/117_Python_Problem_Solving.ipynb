{
 "cells": [
  {
   "cell_type": "code",
   "execution_count": null,
   "id": "50f821b3-aae4-4ac5-ae5d-40465f30adb3",
   "metadata": {},
   "outputs": [],
   "source": [
    "#115 problem solvings\n",
    "\n",
    "#1. Variable Swap: Write a Python program to swap the values of two variables without using a temporary variable.\n",
    "\n",
    "\n",
    "\n",
    "x = 10\n",
    "y = 5\n",
    "\n",
    "x,y = y,x\n",
    "print(x,y)"
   ]
  },
  {
   "cell_type": "code",
   "execution_count": 3,
   "id": "4f2897ce-07b8-4ef9-b547-841cac7e042b",
   "metadata": {},
   "outputs": [
    {
     "name": "stdin",
     "output_type": "stream",
     "text": [
      " 2\n"
     ]
    },
    {
     "name": "stdout",
     "output_type": "stream",
     "text": [
      "even\n"
     ]
    }
   ],
   "source": [
    "#2. Even or Odd: Write a Python program that takes an integer as input and prints whether it is even or odd.\n",
    "\n",
    "\n",
    "num = int(input())\n",
    "\n",
    "if num % 2 == 0:\n",
    "    print('even')\n",
    "else:\n",
    "    print('odd')"
   ]
  },
  {
   "cell_type": "code",
   "execution_count": 35,
   "id": "a52b6409-2930-4211-a46d-731d24e42234",
   "metadata": {},
   "outputs": [
    {
     "name": "stdin",
     "output_type": "stream",
     "text": [
      " soon\n"
     ]
    },
    {
     "name": "stdout",
     "output_type": "stream",
     "text": [
      "noos\n"
     ]
    }
   ],
   "source": [
    "#3. String Reverse: Write a Python function to reverse a given string and return the reversed string.\n",
    "\n",
    "\n",
    "def rev_string(inputs):\n",
    "    rev_s = ''\n",
    "    for i in inputs:\n",
    "        rev_s = i + rev_s\n",
    "    print(rev_s)\n",
    "    return rev_s\n",
    "\n",
    "inputs = rev_string(input())\n"
   ]
  },
  {
   "cell_type": "code",
   "execution_count": 9,
   "id": "9ca09d92-4b40-421e-8326-50ddbd2bd4a3",
   "metadata": {},
   "outputs": [
    {
     "name": "stdout",
     "output_type": "stream",
     "text": [
      "['2', '1', '5', '3']\n",
      "['2', '1', '5', '3']\n"
     ]
    }
   ],
   "source": [
    "#4. Type Conversion: Given a list of integers, write a Python program to convert each element of the list to a string.\n",
    "\n",
    "\n",
    "num = [2, 1 ,5, 3]\n",
    "str1 = ''\n",
    "for i in range(len(num)):\n",
    "    str1 += str(num[i])\n",
    "print(list(str1))\n",
    "\n",
    "#4\n",
    "num = [ 2 ,1 ,5, 3]\n",
    "num_str = map(str, num)\n",
    "print(list(num_str))"
   ]
  },
  {
   "cell_type": "code",
   "execution_count": 10,
   "id": "9148f9d4-9207-4f6d-84f8-9a2bbdb307a2",
   "metadata": {},
   "outputs": [
    {
     "name": "stdin",
     "output_type": "stream",
     "text": [
      " 32\n"
     ]
    },
    {
     "name": "stdout",
     "output_type": "stream",
     "text": [
      "89.6\n"
     ]
    }
   ],
   "source": [
    "#5. Temperature Converter: Write a Python program that converts a temperature in Celsius to Fahrenheit. Take the Celsius temperature as input from the user.\n",
    "\n",
    "\n",
    "celc = int(input())\n",
    "f = celc * (9/5) + 32\n",
    "print(f)"
   ]
  },
  {
   "cell_type": "code",
   "execution_count": 15,
   "id": "5ca7e992-7a43-41a0-9c3a-e1c7e71e3155",
   "metadata": {},
   "outputs": [
    {
     "name": "stdin",
     "output_type": "stream",
     "text": [
      " soon\n"
     ]
    },
    {
     "name": "stdout",
     "output_type": "stream",
     "text": [
      "soon\n"
     ]
    }
   ],
   "source": [
    "#6. Data Type Checker: Write a Python function that takes a variable as input and returns the data type of the variable as a string (e.g., “int”, “float”, “str”, “list”, etc.).\n",
    "\n",
    "\n",
    "def conv_str(inputs):\n",
    "    str1 = str(inputs)\n",
    "    print(str1)\n",
    "    return str1\n",
    "\n",
    "inputs = conv_str(input())"
   ]
  },
  {
   "cell_type": "code",
   "execution_count": 26,
   "id": "4fca82f5-dc05-4e24-8a14-eb6394acb19d",
   "metadata": {},
   "outputs": [
    {
     "name": "stdin",
     "output_type": "stream",
     "text": [
      " madam\n"
     ]
    },
    {
     "name": "stdout",
     "output_type": "stream",
     "text": [
      "palindrome\n"
     ]
    }
   ],
   "source": [
    "#7. String Palindrome: Write a Python function to check if a given string is a palindrome or not.\n",
    "\n",
    "\n",
    "def is_palindrome(inputs):\n",
    "    str1 = inputs[::-1]\n",
    "    if str1 == inputs:\n",
    "        print('palindrome')\n",
    "    else:\n",
    "        print('not palin')\n",
    "\n",
    "inputs = is_palindrome(str(input()))"
   ]
  },
  {
   "cell_type": "code",
   "execution_count": 37,
   "id": "0c29ef1c-1806-4f8d-9437-09556dbfee79",
   "metadata": {},
   "outputs": [
    {
     "name": "stdin",
     "output_type": "stream",
     "text": [
      " soon\n"
     ]
    },
    {
     "data": {
      "text/plain": [
       "'noos'"
      ]
     },
     "execution_count": 37,
     "metadata": {},
     "output_type": "execute_result"
    }
   ],
   "source": [
    "#8. String Reversal with Slicing: Write a Python function to reverse a given string using slicing.\n",
    "\n",
    "\n",
    "def rev_string(str1):\n",
    "    rev_s = str1[::-1]\n",
    "    return rev_s\n",
    "\n",
    "str1 = input()\n",
    "rev_string(str1)"
   ]
  },
  {
   "cell_type": "code",
   "execution_count": 43,
   "id": "eda2d43e-a894-4190-9238-4c0c00d3dd95",
   "metadata": {},
   "outputs": [
    {
     "name": "stdin",
     "output_type": "stream",
     "text": [
      " love\n",
      " you\n"
     ]
    },
    {
     "name": "stdout",
     "output_type": "stream",
     "text": [
      "love you\n"
     ]
    }
   ],
   "source": [
    "#9. String Concatenation: Write a Python program that takes two strings as input and concatenates them into a single string without using the `+` operator.\n",
    "\n",
    "\n",
    "str1 = input()\n",
    "str2 = input()\n",
    "\n",
    "str3 = ' '.join([str1,str2])\n",
    "\n",
    "print(str3)"
   ]
  },
  {
   "cell_type": "code",
   "execution_count": 53,
   "id": "cc2bdae0-3486-44be-adca-02a6f287ca0c",
   "metadata": {},
   "outputs": [
    {
     "name": "stdout",
     "output_type": "stream",
     "text": [
      "125\n",
      "<class 'int'>\n",
      "114.5\n",
      "<class 'float'>\n",
      "114.5 is the answer\n"
     ]
    }
   ],
   "source": [
    "#10. Typecasting Challenge: Given three variables: `a = ‘100’`, `b = 25`, and `c = ‘10.5’`, write a Python program to perform the following operations and print the results: – Convert `a` to an integer and add it to `b`. – Convert `c` to a float and subtract it from the result of the first operation. – Convert the final result to a string and concatenate it with the string ” is the answer.”\n",
    "\n",
    "\n",
    "a = '100'\n",
    "b = 25\n",
    "c = '10.5'\n",
    "\n",
    "a = int(a)\n",
    "sum1 = a + b\n",
    "print(sum1)\n",
    "print(type(a))\n",
    "\n",
    "c = float(c)\n",
    "sum2 = sum1 - c\n",
    "print(sum2)\n",
    "print(type(c))\n",
    "\n",
    "sum2 = str(sum2) + ' is the answer'\n",
    "print(sum2)"
   ]
  },
  {
   "cell_type": "code",
   "execution_count": 55,
   "id": "e5e383a0-c669-4f81-8eba-b2cd2bb60b17",
   "metadata": {},
   "outputs": [
    {
     "name": "stdin",
     "output_type": "stream",
     "text": [
      " 10\n"
     ]
    },
    {
     "name": "stdout",
     "output_type": "stream",
     "text": [
      "pos\n"
     ]
    }
   ],
   "source": [
    "#11. Positive, Negative, or Zero: Write a Python program that takes a number as input and prints whether it is positive, negative, or zero.\n",
    "\n",
    "\n",
    "inputs = int(input())\n",
    "if inputs > 0:\n",
    "    print('pos')\n",
    "elif inputs < 0:\n",
    "    print('Neg')\n",
    "else:\n",
    "    print('is a zero')"
   ]
  },
  {
   "cell_type": "code",
   "execution_count": 61,
   "id": "7a00b01c-6d1d-40cc-9dd4-ced50ceccf48",
   "metadata": {},
   "outputs": [
    {
     "name": "stdin",
     "output_type": "stream",
     "text": [
      " 11\n",
      " 11\n",
      " 1\n"
     ]
    },
    {
     "name": "stdout",
     "output_type": "stream",
     "text": [
      "one is same or 3 of them are\n"
     ]
    }
   ],
   "source": [
    "#12. Largest of Three Numbers: Write a Python program that takes three numbers as input and prints the largest among them.\n",
    "\n",
    "\n",
    "x = int(input())\n",
    "y = int(input())\n",
    "z = int(input())\n",
    "\n",
    "if x > y and x > z:\n",
    "    print('x',x)\n",
    "elif y > x and y > z:\n",
    "    print('y',y)\n",
    "elif z > x and z > y:\n",
    "    print('z',z)\n",
    "else:\n",
    "    print('one is same or 3 of them are')"
   ]
  },
  {
   "cell_type": "code",
   "execution_count": 64,
   "id": "cbf52472-b596-4ed3-bad0-56661eb93647",
   "metadata": {},
   "outputs": [
    {
     "name": "stdin",
     "output_type": "stream",
     "text": [
      " 2004\n"
     ]
    },
    {
     "name": "stdout",
     "output_type": "stream",
     "text": [
      "leap_year\n"
     ]
    }
   ],
   "source": [
    "#13. Leap Year Checker: Write a Python program that takes a year as input and determines if it is a leap year or not.\n",
    "\n",
    "\n",
    "year = int(input())\n",
    "\n",
    "if year % 400 == 0 or year % 100 !=0 and year % 4 == 0:\n",
    "    print('leap_year')\n",
    "else:\n",
    "    print('not a leap year')"
   ]
  },
  {
   "cell_type": "code",
   "execution_count": 68,
   "id": "f4570524-8f82-4e58-a82e-ecb129e174d7",
   "metadata": {},
   "outputs": [
    {
     "name": "stdin",
     "output_type": "stream",
     "text": [
      "Enter the student's score:  60\n",
      "Enter the maximum possible score:  100\n"
     ]
    },
    {
     "name": "stdout",
     "output_type": "stream",
     "text": [
      "Percentage: 60.00% - Grade: C\n"
     ]
    }
   ],
   "source": [
    "#14. Grades Classification: Write a Python program that takes a student’s percentage as input and prints their corresponding grade according to the following criteria: – 90% or above: A+ – 80-89%: A – 70-79%: B – 60-69%: C – Below 60%: Fail\n",
    "\n",
    "\n",
    "def classify_grade(score, max_score):\n",
    "    percentage = (score / max_score) * 100\n",
    "\n",
    "    if percentage >= 90:\n",
    "        print(f\"Percentage: {percentage:.2f}% - Grade: A+\")\n",
    "    elif percentage >= 80:\n",
    "        print(f\"Percentage: {percentage:.2f}% - Grade: A\")\n",
    "    elif percentage >= 70:\n",
    "        print(f\"Percentage: {percentage:.2f}% - Grade: B\")\n",
    "    elif percentage >= 60:\n",
    "        print(f\"Percentage: {percentage:.2f}% - Grade: C\")\n",
    "    else:\n",
    "        print(f\"Percentage: {percentage:.2f}% - Grade: Fail\")\n",
    "\n",
    "score = float(input(\"Enter the student's score: \"))\n",
    "max_score = float(input(\"Enter the maximum possible score: \"))\n",
    "classify_grade(score, max_score)\n"
   ]
  },
  {
   "cell_type": "code",
   "execution_count": 105,
   "id": "ad8556d5-9d1a-4412-baba-02f2b6985fe6",
   "metadata": {},
   "outputs": [
    {
     "name": "stdin",
     "output_type": "stream",
     "text": [
      " c\n"
     ]
    },
    {
     "name": "stdout",
     "output_type": "stream",
     "text": [
      "c is a consonant\n"
     ]
    }
   ],
   "source": [
    "#15. Vowel or Consonant: Write a Python program that takes a single character as input and determines whether it is a vowel or a consonant.\n",
    "\n",
    "\n",
    "inputs = input().lower()\n",
    "vowels = ['a', 'e', 'i', 'o', 'u']\n",
    "\n",
    "if inputs in vowels:\n",
    "    print(f'{inputs} is a vowel')\n",
    "else:\n",
    "    print(f'{inputs} is a consonant')\n"
   ]
  },
  {
   "cell_type": "code",
   "execution_count": 106,
   "id": "176c3d6f-3ee9-4504-9e48-5de16fb1a92d",
   "metadata": {},
   "outputs": [
    {
     "name": "stdin",
     "output_type": "stream",
     "text": [
      "Enter the time in hours (0-23):  12\n"
     ]
    },
    {
     "name": "stdout",
     "output_type": "stream",
     "text": [
      "Good Afternoon\n"
     ]
    }
   ],
   "source": [
    "#16. Time Classification: Write a Python program that takes the time in hours (24-hour format) as input and prints “Good Morning”, “Good Afternoon”, “Good Evening”, or “Good Night” based on the time.\n",
    "\n",
    "\n",
    "def classify_time(hour):\n",
    "    if 5 <= hour < 12:\n",
    "        print(\"Good Morning\")\n",
    "    elif 12 <= hour < 17:\n",
    "        print(\"Good Afternoon\")\n",
    "    elif 17 <= hour < 21:\n",
    "        print(\"Good Evening\")\n",
    "    elif (21 <= hour <= 23) or (0 <= hour < 5):\n",
    "        print(\"Good Night\")\n",
    "    else:\n",
    "        print(\"Invalid time. Please enter an hour between 0 and 23.\")\n",
    "\n",
    "hour = int(input(\"Enter the time in hours (0-23): \"))\n",
    "classify_time(hour)\n"
   ]
  },
  {
   "cell_type": "code",
   "execution_count": 111,
   "id": "132a29b1-bd88-45c0-8df0-99e3b48a494a",
   "metadata": {},
   "outputs": [
    {
     "name": "stdin",
     "output_type": "stream",
     "text": [
      "Enter the first side of the triangle:  10\n",
      "Enter the second side of the triangle:  7\n",
      "Enter the third side of the triangle:  8\n"
     ]
    },
    {
     "name": "stdout",
     "output_type": "stream",
     "text": [
      "The triangle is scalene.\n"
     ]
    }
   ],
   "source": [
    "#17. Triangle Type Checker: Write a Python program that takes three sides of a triangle as input and determines whether it forms an equilateral, isosceles, or scalene triangle.\n",
    "\n",
    "\n",
    "def classify_triangle(a, b, c):\n",
    "    # Check if the sides can form a valid triangle\n",
    "    if (a + b > c) and (a + c > b) and (b + c > a):\n",
    "        if a == b == c:\n",
    "            print(\"The triangle is equilateral.\")\n",
    "        elif a == b or b == c or a == c:\n",
    "            print(\"The triangle is isosceles.\")\n",
    "        else:\n",
    "            print(\"The triangle is scalene.\")\n",
    "    else:\n",
    "        print(\"The given sides do not form a valid triangle.\")\n",
    "\n",
    "# Example usage:\n",
    "a = float(input(\"Enter the first side of the triangle: \"))\n",
    "b = float(input(\"Enter the second side of the triangle: \"))\n",
    "c = float(input(\"Enter the third side of the triangle: \"))\n",
    "\n",
    "classify_triangle(a, b, c)\n",
    "\n"
   ]
  },
  {
   "cell_type": "code",
   "execution_count": 122,
   "id": "2105632e-ee10-43a9-b1e0-13c96c186d13",
   "metadata": {},
   "outputs": [
    {
     "name": "stdin",
     "output_type": "stream",
     "text": [
      "Enter :  25\n",
      "Enter :  25\n",
      "Enter :  5\n"
     ]
    },
    {
     "name": "stdout",
     "output_type": "stream",
     "text": [
      "The eq has two real roots : -0.276393202250021 and -0.7236067977499789\n"
     ]
    }
   ],
   "source": [
    "#18. Quadratic Equation Solver: Write a Python program that takes the coefficients (a, b, c) of a quadratic equation as input and calculates and prints the real roots (if they exist) or a message indicating the complex roots.\n",
    "\n",
    "\n",
    "import math\n",
    "\n",
    "def quad_eq(a, b, c):\n",
    "    discriminant = b**2 - 4*a*c\n",
    "\n",
    "    if discriminant > 0:\n",
    "        root1 = (-b + math.sqrt(discriminant)) / (2*a)\n",
    "        root2 = (-b - math.sqrt(discriminant)) / (2*a)\n",
    "        print(f'The eq has two real roots : {root1} and {root2}')\n",
    "    elif discriminant == 0:\n",
    "        root = -b / (2*a)\n",
    "        print(f'The eq has one real root : {root}')\n",
    "    else:\n",
    "        real_part = -b / (2*a)\n",
    "        imaginiary_part = math.sqrt(-discriminant) / (2*a)\n",
    "        print(f'The eq has complex roots')\n",
    "a = int(input(\"Enter : \"))\n",
    "b = int(input(\"Enter : \"))\n",
    "c = int(input(\"Enter : \"))\n",
    "\n",
    "if a == 0:\n",
    "    print(f'This is not a quadratic eq')\n",
    "else:\n",
    "    quad_eq(a, b , c)"
   ]
  },
  {
   "cell_type": "code",
   "execution_count": 123,
   "id": "e122ddb1-419e-4c73-a163-def2af6875b2",
   "metadata": {},
   "outputs": [
    {
     "name": "stdin",
     "output_type": "stream",
     "text": [
      "Enter an integer:  100\n"
     ]
    },
    {
     "name": "stdout",
     "output_type": "stream",
     "text": [
      "The number 100 falls in the range 51-100.\n"
     ]
    }
   ],
   "source": [
    "#19. Number Ranges: Write a Python program that takes an integer as input and prints whether the number falls within the ranges: 0-50, 51-100, 101-150, or above 150.\n",
    "\n",
    "\n",
    "def check_range(number):\n",
    "    if 0 <= number <= 50:\n",
    "        print(f\"The number {number} falls in the range 0-50.\")\n",
    "    elif 51 <= number <= 100:\n",
    "        print(f\"The number {number} falls in the range 51-100.\")\n",
    "    elif 101 <= number <= 150:\n",
    "        print(f\"The number {number} falls in the range 101-150.\")\n",
    "    elif number > 150:\n",
    "        print(f\"The number {number} is above 150.\")\n",
    "    else:\n",
    "        print(f\"The number {number} is below 0.\")\n",
    "\n",
    "number = int(input(\"Enter an integer: \"))\n",
    "check_range(number)\n"
   ]
  },
  {
   "cell_type": "code",
   "execution_count": 129,
   "id": "3d2cea10-2b96-4643-9851-b9732a17aefc",
   "metadata": {},
   "outputs": [
    {
     "name": "stdin",
     "output_type": "stream",
     "text": [
      " 3\n"
     ]
    },
    {
     "name": "stdout",
     "output_type": "stream",
     "text": [
      "0\n",
      "1\n",
      "3\n"
     ]
    }
   ],
   "source": [
    "#20. Sum of N Numbers: Write a Python program using a for loop to calculate the sum of the first N natural numbers, where N is taken as input from the user.\n",
    "\n",
    "\n",
    "n = int(input())\n",
    "\n",
    "for i in range(n):\n",
    "    result = (i*(i+1))//2\n",
    "    print(result)"
   ]
  },
  {
   "cell_type": "code",
   "execution_count": 8,
   "id": "c533b739-fcaf-433a-9ea2-d39d6dcb34ff",
   "metadata": {},
   "outputs": [
    {
     "name": "stdin",
     "output_type": "stream",
     "text": [
      " 5\n"
     ]
    },
    {
     "name": "stdout",
     "output_type": "stream",
     "text": [
      "120\n"
     ]
    },
    {
     "data": {
      "text/plain": [
       "120"
      ]
     },
     "execution_count": 8,
     "metadata": {},
     "output_type": "execute_result"
    }
   ],
   "source": [
    "#21. Factorial Calculator: Write a Python program using a while loop to calculate the factorial of a given number N.\n",
    "\n",
    "\n",
    "fact = int(input())\n",
    "if fact == 0 or fact == 1:\n",
    "    print('fact is 1')\n",
    "else:\n",
    "    result = 1\n",
    "    i = fact\n",
    "    while i > 1:\n",
    "        result = result * i\n",
    "        i = i - 1\n",
    "    print(result)\n",
    "\n",
    "def facto(x):\n",
    "    if x == 0:\n",
    "        return 1\n",
    "    return x * facto(x - 1)\n",
    "facto(5)"
   ]
  },
  {
   "cell_type": "code",
   "execution_count": 6,
   "id": "be5d8939-e873-4cad-a3f2-00fbc55c6ece",
   "metadata": {},
   "outputs": [
    {
     "name": "stdin",
     "output_type": "stream",
     "text": [
      " 3\n"
     ]
    },
    {
     "name": "stdout",
     "output_type": "stream",
     "text": [
      "3 * 1 = 3\n",
      "3 * 2 = 6\n",
      "3 * 3 = 9\n",
      "3 * 4 = 12\n",
      "3 * 5 = 15\n",
      "3 * 6 = 18\n",
      "3 * 7 = 21\n",
      "3 * 8 = 24\n",
      "3 * 9 = 27\n",
      "3 * 10 = 30\n"
     ]
    }
   ],
   "source": [
    "#22. Table of a Number: Write a Python program using a for loop to print the multiplication table of a given number N.\n",
    "\n",
    "\n",
    "num = int(input())\n",
    "res = 1\n",
    "for i in range(1,11):\n",
    "    res = num * i\n",
    "    print(f'{num} * {i} =',res)"
   ]
  },
  {
   "cell_type": "code",
   "execution_count": 9,
   "id": "57150cff-552e-4aae-b804-e192da13f66e",
   "metadata": {},
   "outputs": [
    {
     "name": "stdin",
     "output_type": "stream",
     "text": [
      " 33\n"
     ]
    },
    {
     "name": "stdout",
     "output_type": "stream",
     "text": [
      "2\n"
     ]
    }
   ],
   "source": [
    "#23. Count Digits in a Number: Write a Python program using a while loop to count the number of digits in a given integer N.\n",
    "\n",
    "\n",
    "num = int(input())\n",
    "\n",
    "num = abs(num)\n",
    "\n",
    "count = 0\n",
    "\n",
    "if num  == 0:\n",
    "    count = 1\n",
    "\n",
    "else:\n",
    "    while num > 0:\n",
    "        num = num // 10\n",
    "        count += 1\n",
    "\n",
    "print(count)"
   ]
  },
  {
   "cell_type": "code",
   "execution_count": 6,
   "id": "094795cb-0a6b-4925-be26-f5ea3f207972",
   "metadata": {},
   "outputs": [
    {
     "name": "stdin",
     "output_type": "stream",
     "text": [
      "12 10\n"
     ]
    },
    {
     "name": "stdout",
     "output_type": "stream",
     "text": [
      "1 2 3 5 8 "
     ]
    }
   ],
   "source": [
    "#24. Fibonacci Sequence: Write a Python program using a for loop to generate the Fibonacci sequence up to a given limit N.\n",
    "\n",
    "\n",
    "n = int(input(n))\n",
    "\n",
    "a, b = 1, 2\n",
    "\n",
    "for i in range(n):\n",
    "    if a > n:\n",
    "        break\n",
    "    print(a , end =' ')\n",
    "    a , b = b, a + b"
   ]
  },
  {
   "cell_type": "code",
   "execution_count": 12,
   "id": "d2536051-3f84-4fc6-ad54-fbadabf899d2",
   "metadata": {},
   "outputs": [
    {
     "name": "stdin",
     "output_type": "stream",
     "text": [
      " 10\n"
     ]
    },
    {
     "name": "stdout",
     "output_type": "stream",
     "text": [
      "10\n",
      "18\n",
      "24\n",
      "28\n",
      "30\n"
     ]
    }
   ],
   "source": [
    "#25. Sum of Even Numbers: Write a Python program using a while loop to calculate the sum of all even numbers between 1 and N, where N is taken as input from the user.\n",
    "\n",
    "\n",
    "n = int(input())\n",
    "sum = 0\n",
    "i = n\n",
    "while i > 0 :\n",
    "    if i % 2 == 0:\n",
    "        sum += i\n",
    "        print(sum)\n",
    "    i = i - 1"
   ]
  },
  {
   "cell_type": "code",
   "execution_count": 80,
   "id": "0cef8e69-ce13-4801-9106-a6dff1cf4c5c",
   "metadata": {},
   "outputs": [
    {
     "name": "stdin",
     "output_type": "stream",
     "text": [
      "Enter a number:  6\n"
     ]
    },
    {
     "name": "stdout",
     "output_type": "stream",
     "text": [
      "******\n",
      "*****\n",
      "****\n",
      "***\n",
      "**\n",
      "*\n",
      "**\n",
      "***\n",
      "****\n",
      "*****\n",
      "******\n"
     ]
    },
    {
     "name": "stdin",
     "output_type": "stream",
     "text": [
      "Enter a number:  6\n"
     ]
    },
    {
     "name": "stdout",
     "output_type": "stream",
     "text": [
      "\n",
      "******\n",
      "*****\n",
      "****\n",
      "***\n",
      "**\n",
      "*\n",
      "**\n",
      "***\n",
      "****\n",
      "*****\n",
      "******"
     ]
    }
   ],
   "source": [
    "#26. Print Patterns: Write a Python program using nested for loops to print various patterns, such as a right-angled triangle, an inverted right-angled triangle, and so on.\n",
    "\n",
    "\n",
    "n = int(input(\"Enter a number: \"))\n",
    "\n",
    "for i in range(n):\n",
    "    print('*' * (n - i))\n",
    "\n",
    "for i in range(1, n):\n",
    "    print('*' * (i + 1))\n",
    "\n",
    "###\n",
    "n = int(input(\"Enter a number: \"))\n",
    "\n",
    "for i in range(n):\n",
    "    print('\\n', end='')\n",
    "    for j in range(n - i):\n",
    "        print('*', end='')\n",
    "\n",
    "for i in range(1, n):\n",
    "    print('\\n', end='')\n",
    "    for j in range(i + 1):\n",
    "        print('*', end='')"
   ]
  },
  {
   "cell_type": "code",
   "execution_count": 89,
   "id": "141b9283-07b3-423c-b32a-ed2095e1d3a1",
   "metadata": {},
   "outputs": [
    {
     "name": "stdin",
     "output_type": "stream",
     "text": [
      " 10\n"
     ]
    },
    {
     "name": "stdout",
     "output_type": "stream",
     "text": [
      "10 is not prime\n"
     ]
    }
   ],
   "source": [
    "#27. Prime Number Checker: Write a Python program using a while loop to check if a given number N is prime or not.\n",
    "\n",
    "\n",
    "n = int(input())\n",
    "\n",
    "if n <= 1:\n",
    "    print('not a prime')\n",
    "else:\n",
    "    i = 2\n",
    "    is_prime = True\n",
    "\n",
    "while i < n:\n",
    "    if n % i == 0:\n",
    "        is_prime = False\n",
    "        break\n",
    "    i += 1\n",
    "\n",
    "if is_prime:\n",
    "    print(n,'is prime')\n",
    "else:\n",
    "    print(n,'is not prime')"
   ]
  },
  {
   "cell_type": "code",
   "execution_count": 113,
   "id": "1dd017f9-da59-4ec7-bcff-72505b9dd015",
   "metadata": {},
   "outputs": [
    {
     "name": "stdout",
     "output_type": "stream",
     "text": [
      "187 \n",
      " 23.375 \n",
      " 100 \n",
      " 1\n"
     ]
    }
   ],
   "source": [
    "#28. List Manipulation: Given a list of integers, write a Python program using a for loop to find the sum, average, maximum, and minimum values in the list.\n",
    "\n",
    "\n",
    "import sys\n",
    "n = [1,2,3,5,7,14,55,100]\n",
    "sum = 0\n",
    "max,min = 0, sys.maxsize\n",
    "for i in range(len(n)):\n",
    "    sum +=n[i]\n",
    "    avg = sum/len(n)\n",
    "    if n[i] > max:\n",
    "        max = n[i]\n",
    "    if n[i] < min:\n",
    "        min = n[i]\n",
    "print(sum,'\\n', avg,'\\n',max,'\\n', min)"
   ]
  },
  {
   "cell_type": "code",
   "execution_count": 3,
   "id": "cb008f89-e7b5-423a-a18e-5c6790a92197",
   "metadata": {},
   "outputs": [
    {
     "name": "stdin",
     "output_type": "stream",
     "text": [
      " soon\n"
     ]
    },
    {
     "name": "stdout",
     "output_type": "stream",
     "text": [
      "noos\n"
     ]
    }
   ],
   "source": [
    "#29. Reverse String: Write a Python program using a while loop to reverse a given string.\n",
    "\n",
    "\n",
    "n = input()\n",
    "\n",
    "i = len(n) - 1\n",
    "rev_s = ''\n",
    "while i >= 0:\n",
    "    rev_s = rev_s + n[i]\n",
    "    i = i - 1\n",
    "print(rev_s)"
   ]
  },
  {
   "cell_type": "code",
   "execution_count": 20,
   "id": "4b21e19f-2760-4d80-8346-2577ad653a5f",
   "metadata": {},
   "outputs": [
    {
     "name": "stdin",
     "output_type": "stream",
     "text": [
      " 5\n"
     ]
    },
    {
     "name": "stdout",
     "output_type": "stream",
     "text": [
      "5 * 1 =  5\n",
      "5 * 2 =  10\n",
      "5 * 3 =  15\n",
      "5 * 4 =  20\n",
      "5 * 5 =  25\n",
      "5 * 6 =  30\n",
      "5 * 7 =  35\n",
      "5 * 8 =  40\n",
      "5 * 9 =  45\n",
      "5 * 10 =  50\n"
     ]
    }
   ],
   "source": [
    "#30. Multiplication Table: Write a Python program using nested loops to print the multiplication table from 1 to 10.\n",
    "\n",
    "\n",
    "n = int(input())\n",
    "\n",
    "i = 1\n",
    "mulp = 1\n",
    "while i <= 10:\n",
    "    mulp = n * i\n",
    "    i = i + 1\n",
    "    print(f'{n} * {i-1} = ',mulp)\n",
    "    "
   ]
  },
  {
   "cell_type": "code",
   "execution_count": 30,
   "id": "cda8ec30-3df1-414d-a175-1569b52d36b1",
   "metadata": {},
   "outputs": [
    {
     "name": "stdin",
     "output_type": "stream",
     "text": [
      " 5\n"
     ]
    },
    {
     "name": "stdout",
     "output_type": "stream",
     "text": [
      "\n",
      "\n",
      "*\n",
      "\n",
      "**\n",
      "\n",
      "***\n",
      "\n",
      "****\n",
      "\n",
      "*****"
     ]
    }
   ],
   "source": [
    "#31. Print Patterns: Write a Python program using nested loops to print the following pattern:\n",
    "\n",
    "\n",
    "n = int(input())\n",
    "\n",
    "for i in range(n):\n",
    "    print('\\n\\n', end = '*')\n",
    "    for j in range(1,i+1):\n",
    "        print('*', end='')"
   ]
  },
  {
   "cell_type": "code",
   "execution_count": 41,
   "id": "13c417e3-73bd-4269-adaa-63ece64b92b0",
   "metadata": {},
   "outputs": [
    {
     "name": "stdout",
     "output_type": "stream",
     "text": [
      "calc matrices:\n",
      "[2, 4, 6]\n",
      "[6, 12, 18]\n",
      "[10, 20, 30]\n"
     ]
    }
   ],
   "source": [
    "#32. Matrix Multiplication: Write a Python program using nested loops to multiply two matrices.\n",
    "\n",
    "\n",
    "n1 = [1, 3, 5]\n",
    "n2 = [2, 4, 6]\n",
    "matx = []\n",
    "print('calc matrices:')\n",
    "for i in range(len(n1)):\n",
    "    row = []\n",
    "    for j in range(len(n2)):\n",
    "        row.append(n1[i] * n2[j])\n",
    "    matx.append(row)    \n",
    "for row in matx:\n",
    "    print(row)"
   ]
  },
  {
   "cell_type": "code",
   "execution_count": 141,
   "id": "76b56576-8f1e-4725-84dc-c06d86fac847",
   "metadata": {},
   "outputs": [
    {
     "name": "stdout",
     "output_type": "stream",
     "text": [
      "XOXOXOXO\n",
      "OXOXOXOX\n",
      "XOXOXOXO\n",
      "OXOXOXOX\n",
      "XOXOXOXO\n",
      "OXOXOXOX\n",
      "XOXOXOXO\n",
      "OXOXOXOX\n"
     ]
    }
   ],
   "source": [
    "#33. Chessboard Pattern: Write a Python program using nested loops to print a chessboard pattern (alternating “X” and “O” characters) of size 8×8.34. Number Pyramid: Write a Python program using nested loops to print a number pyramid like the following: 1 22 333 4444 55555\n",
    "\n",
    "\n",
    "a = 8\n",
    "b = 8\n",
    "for i in range(0,a):\n",
    "    for j in range(0,b):\n",
    "        if (i + j) % 2 == 0:\n",
    "            print('X' , end ='')\n",
    "        else:\n",
    "            print('O' , end ='')\n",
    "    print()"
   ]
  },
  {
   "cell_type": "code",
   "execution_count": 191,
   "id": "be2341f1-3591-486c-8da8-6c4a9145fd9f",
   "metadata": {},
   "outputs": [
    {
     "name": "stdout",
     "output_type": "stream",
     "text": [
      "1\n",
      "22\n",
      "333\n",
      "4444\n",
      "55555\n"
     ]
    }
   ],
   "source": [
    "#33. Number Pyramid: Write a Python program using nested loops to print a number pyramid like the following: 1 22 333 4444 55555\n",
    "\n",
    "\n",
    "n = 5\n",
    "\n",
    "for i in range(1, n+1):\n",
    "    for j in range(i):\n",
    "        print(i, end = '')\n",
    "    print()"
   ]
  },
  {
   "cell_type": "code",
   "execution_count": 192,
   "id": "4a1ba030-9db6-4733-b6ce-ca5e9fff4c89",
   "metadata": {},
   "outputs": [
    {
     "name": "stdout",
     "output_type": "stream",
     "text": [
      "27\n"
     ]
    }
   ],
   "source": [
    "#34. List Sum: Write a Python program to find the sum of all elements in a given list of integers.\n",
    "\n",
    "\n",
    "l1 = [1, 2, 3, 5, 7, 9]\n",
    "sum = 0\n",
    "for i in range(len(l1)):\n",
    "    sum += l1[i]\n",
    "print(sum)"
   ]
  },
  {
   "cell_type": "code",
   "execution_count": 193,
   "id": "9bbba8a9-d56a-497b-b240-8447c587ab97",
   "metadata": {},
   "outputs": [
    {
     "name": "stdout",
     "output_type": "stream",
     "text": [
      "4.5\n"
     ]
    }
   ],
   "source": [
    "#35. List Average: Write a Python program to calculate the average of all elements in a given list of integers.\n",
    "\n",
    "\n",
    "\n",
    "l1 = [1, 2, 3, 5, 7, 9]\n",
    "sum = 0\n",
    "for i in range(len(l1)):\n",
    "    sum += l1[i]\n",
    "    avg = sum/len(l1)\n",
    "print(avg)"
   ]
  },
  {
   "cell_type": "code",
   "execution_count": 197,
   "id": "13953c90-984c-4e2b-9144-f5992db9cd2c",
   "metadata": {},
   "outputs": [
    {
     "name": "stdout",
     "output_type": "stream",
     "text": [
      "9 \n",
      " 1\n"
     ]
    }
   ],
   "source": [
    "#36. List Max and Min: Write a Python program to find the maximum and minimum values in a given list of integers.\n",
    "\n",
    "\n",
    "import sys\n",
    "l1 = [1, 2, 3, 5, 7, 9]\n",
    "\n",
    "max,min = 0, sys.maxsize\n",
    "for i in range(len(l1)):\n",
    "    if max < l1[i]:\n",
    "        max = l1[i]\n",
    "    if min > l1[i]:\n",
    "        min = l1[i]\n",
    "print(max,'\\n',min)"
   ]
  },
  {
   "cell_type": "code",
   "execution_count": 198,
   "id": "247b3f52-6e3e-48c7-af2b-978fc3e30ec5",
   "metadata": {},
   "outputs": [
    {
     "name": "stdout",
     "output_type": "stream",
     "text": [
      "[1, 2, 3, 5, 7, 9, 10, 25, 36, 55]\n"
     ]
    }
   ],
   "source": [
    "#37. List Sorting: Write a Python program to sort a list of integers in ascending order.\n",
    "\n",
    "\n",
    "import sys\n",
    "l1 = [10, 55, 1, 2, 3, 5, 7, 9, 25, 36]\n",
    "l1.sort()\n",
    "\n",
    "print(l1)"
   ]
  },
  {
   "cell_type": "code",
   "execution_count": 203,
   "id": "045a4745-7b40-4d02-b4e4-ddc29e635735",
   "metadata": {},
   "outputs": [
    {
     "name": "stdout",
     "output_type": "stream",
     "text": [
      "[10, 2, 36]\n"
     ]
    }
   ],
   "source": [
    "#38. List Filtering: Given a list of integers, write a Python program to create a new list that contains only the even numbers from the original list.\n",
    "\n",
    "\n",
    "l1 = [10, 55, 1, 2, 3, 5, 7, 9, 25, 36]\n",
    "l2 = []\n",
    "for i in range(len(l1)):\n",
    "    if l1[i] % 2 == 0:\n",
    "        l2.append(l1[i])\n",
    "print(l2)"
   ]
  },
  {
   "cell_type": "code",
   "execution_count": 220,
   "id": "e70fff1c-9255-4f70-9eef-88d7b48743bd",
   "metadata": {},
   "outputs": [
    {
     "name": "stdout",
     "output_type": "stream",
     "text": [
      "[36, 25, 9, 7, 5, 3, 2, 1, 55, 10]\n"
     ]
    }
   ],
   "source": [
    "#39. List Reversal: Write a Python program to reverse a given list without using any built-in functions.\n",
    "\n",
    "\n",
    "l1 = [10, 55, 1, 2, 3, 5, 7, 9, 25, 36]\n",
    "\n",
    "rev_s = []\n",
    "for i in range(len(l1) - 1, -1, -1):\n",
    "    rev_s.append(l1[i])\n",
    "print(rev_s)"
   ]
  },
  {
   "cell_type": "code",
   "execution_count": 230,
   "id": "cfee075d-d03f-40e6-8274-653a31dd0f37",
   "metadata": {},
   "outputs": [
    {
     "name": "stdout",
     "output_type": "stream",
     "text": [
      "[10, 1, 3, 9, 36]\n",
      "[1, 3, 36, 9, 10]\n"
     ]
    }
   ],
   "source": [
    "#40. List Manipulation: Given two lists of integers, write a Python program to create a new list that contains elements common to both lists.\n",
    "\n",
    "\n",
    "l1 = [10, 55, 1, 2, 3, 5, 7, 9, 25, 36]\n",
    "l2 = [10, 12, 1, 4, 13, 11, 3, 27, 9, 36]\n",
    "l3 = []\n",
    "for i in range(len(l1)):\n",
    "    for j in range(len(l2)):\n",
    "        if l1[i] == l2[j]:\n",
    "            l3.append(l2[j])\n",
    "\n",
    "print(l3)\n",
    "\n",
    "###\n",
    "l1 = [10, 55, 1, 2, 3, 5, 7, 9, 25, 36]\n",
    "l2 = [10, 12, 1, 4, 13, 11, 3, 27, 9, 36]\n",
    "\n",
    "l3 = list(set(l1) & set(l2))\n",
    "\n",
    "print(l3)\n"
   ]
  },
  {
   "cell_type": "code",
   "execution_count": 238,
   "id": "4671023a-6967-4aac-84db-3a366cfdaf4d",
   "metadata": {},
   "outputs": [
    {
     "name": "stdout",
     "output_type": "stream",
     "text": [
      "2\n",
      "2\n"
     ]
    }
   ],
   "source": [
    "#41. List Element Count: Write a Python program to count the occurrences of a specific element in a given list.\n",
    "\n",
    "\n",
    "lc = [10, 12, 1, 4, 3, 11, 3, 12, 9, 36, 12, 4, 55]\n",
    "n = 4\n",
    "count = 0\n",
    "for i in range(len(lc)):\n",
    "    if lc[i] == n:\n",
    "        count += 1\n",
    "print(count)\n",
    "\n",
    "lc = [10, 12, 1, 4, 3, 11, 3, 12, 9, 36, 12, 4, 55]\n",
    "n = 4\n",
    "\n",
    "count = lc.count(n)\n",
    "\n",
    "print(count)\n"
   ]
  },
  {
   "cell_type": "code",
   "execution_count": 241,
   "id": "b30cddf7-e5b1-417f-92b8-678dcc4328f3",
   "metadata": {},
   "outputs": [
    {
     "name": "stdout",
     "output_type": "stream",
     "text": [
      "List after removing duplicates: [10, 12, 1, 4, 3, 11, 9, 36, 55]\n"
     ]
    }
   ],
   "source": [
    "#42. List Duplicates Removal: Write a Python program to remove duplicates from a given list while preserving the order of the elements.\n",
    "\n",
    "\n",
    "lc = [10, 12, 1, 4, 3, 11, 3, 12, 9, 36, 12, 4, 55]\n",
    "unique_list = []\n",
    "seen = set()\n",
    "\n",
    "for item in lc:\n",
    "    if item not in seen:\n",
    "        unique_list.append(item)\n",
    "        seen.add(item)\n",
    "\n",
    "print(\"List after removing duplicates:\", unique_list)"
   ]
  },
  {
   "cell_type": "code",
   "execution_count": 247,
   "id": "f483656d-b26b-4ce0-9b01-f229ce8366db",
   "metadata": {},
   "outputs": [
    {
     "data": {
      "text/plain": [
       "[100, 144, 1, 16, 9, 121, 9, 144, 81, 1296, 144, 16, 3025]"
      ]
     },
     "execution_count": 247,
     "metadata": {},
     "output_type": "execute_result"
    }
   ],
   "source": [
    "#43. List Comprehension: Given a list of integers, write a Python program to create a new list that contains the squares of the elements using list comprehension.\n",
    "\n",
    "\n",
    "lc = [10, 12, 1, 4, 3, 11, 3, 12, 9, 36, 12, 4, 55]\n",
    "[lc[x]**2 for x in range(len(lc))]"
   ]
  },
  {
   "cell_type": "code",
   "execution_count": 251,
   "id": "29cbab69-0215-40d7-bf8b-391b1bd8b6db",
   "metadata": {},
   "outputs": [
    {
     "name": "stdout",
     "output_type": "stream",
     "text": [
      "[10, 10, 10]\n",
      "[10, 10, 10]\n",
      "[10, 10, 10]\n"
     ]
    }
   ],
   "source": [
    "#44. Matrix Addition: Write a Python program to add two matrices represented as nested lists.\n",
    "\n",
    "\n",
    "matrix1 = [\n",
    "    [1, 2, 3],\n",
    "    [4, 5, 6],\n",
    "    [7, 8, 9]\n",
    "]\n",
    "\n",
    "matrix2 = [\n",
    "    [9, 8, 7],\n",
    "    [6, 5, 4],\n",
    "    [3, 2, 1]\n",
    "]\n",
    "\n",
    "result = []\n",
    "for i in range(len(matrix1)):\n",
    "    rows=[]\n",
    "    for j in range(len(matrix1[0])):\n",
    "        rows.append(matrix1[i][j]+matrix2[i][j])\n",
    "    result.append(row)\n",
    "for row in result:\n",
    "    print(row)"
   ]
  },
  {
   "cell_type": "code",
   "execution_count": 252,
   "id": "5984cbed-44a2-4579-854b-80dfbaf6ca34",
   "metadata": {},
   "outputs": [
    {
     "name": "stdout",
     "output_type": "stream",
     "text": [
      "Flattened [1, 2, 3, 4, 5, 6, 7, 8, 9]\n"
     ]
    }
   ],
   "source": [
    "#45. Flatten Nested List: Write a Python program to flatten a given nested list and convert it into a single-dimensional list.\n",
    "\n",
    "\n",
    "\n",
    "nested_list = [[1, 2, 3], [4, 5], [6, 7, 8, 9]]\n",
    "\n",
    "flat_list = []\n",
    "\n",
    "for sublist in nested_list:\n",
    "    for item in sublist:\n",
    "        flat_list.append(item)\n",
    "\n",
    "print('Flattened',flat_list)"
   ]
  },
  {
   "cell_type": "code",
   "execution_count": 261,
   "id": "89fcc1cd-02db-4dcb-ac66-49744f2dd10d",
   "metadata": {},
   "outputs": [
    {
     "name": "stdout",
     "output_type": "stream",
     "text": [
      "Freq of each element in the nested list: \n",
      "1: 1\n",
      "2: 2\n",
      "3: 2\n",
      "4: 3\n",
      "5: 1\n",
      "\n",
      "#####\n",
      "\n",
      "1: 1\n",
      "2: 2\n",
      "3: 2\n",
      "4: 3\n",
      "5: 1\n"
     ]
    }
   ],
   "source": [
    "#46. List Element Frequency: Given a nested list containing lists of integers, write a Python program to count the frequency of each element in the entire nested list.\n",
    "\n",
    "\n",
    "from collections import Counter\n",
    "nested_list = [[1, 2, 3], [2, 3, 4], [4, 4, 5]]\n",
    "\n",
    "flat_list = [item for sublist in nested_list for item in sublist]\n",
    "\n",
    "frequency = Counter(flat_list)\n",
    "\n",
    "print('Freq of each element in the nested list: ')\n",
    "for element, count in frequency.items():\n",
    "    print(f'{element}: {count}')\n",
    "\n",
    "########\n",
    "print('\\n#####\\n')\n",
    "nested_list = [[1, 2, 3], [2, 3, 4], [4, 4, 5]]\n",
    "\n",
    "flat_list = [item for sublist in nested_list for item in sublist]\n",
    "\n",
    "frequency = {}\n",
    "\n",
    "for item in flat_list:\n",
    "    if item in frequency:\n",
    "        frequency[item] += 1\n",
    "    else:\n",
    "        frequency[item] = 1\n",
    "\n",
    "for element, count in frequency.items():\n",
    "    print(f'{element}: {count}')"
   ]
  },
  {
   "cell_type": "code",
   "execution_count": 264,
   "id": "36e09175-7ba2-4d55-b085-e1a90367f573",
   "metadata": {},
   "outputs": [
    {
     "name": "stdout",
     "output_type": "stream",
     "text": [
      "[1, 4, 7]\n",
      "[2, 5, 8]\n",
      "[3, 6, 9]\n"
     ]
    }
   ],
   "source": [
    "#47. Transpose Matrix: Write a Python program to transpose a given matrix represented as a nested list.\n",
    "\n",
    "\n",
    "matrix = [\n",
    "    [1, 2, 3],\n",
    "    [4, 5, 6],\n",
    "    [7, 8, 9]\n",
    "]\n",
    "\n",
    "transpose = []\n",
    "\n",
    "for i in range(len(matrix[0])):\n",
    "    row = []\n",
    "    for j in range(len(matrix)):\n",
    "        row.append(matrix[j][i])\n",
    "    transpose.append(row)\n",
    "\n",
    "for row in transpose:\n",
    "    print(row)"
   ]
  },
  {
   "cell_type": "code",
   "execution_count": 265,
   "id": "845008ec-feaa-4e13-ae07-894be02cb4df",
   "metadata": {},
   "outputs": [
    {
     "name": "stdout",
     "output_type": "stream",
     "text": [
      "Concatenated flat list: [1, 2, 3, 4, 5, 6, 7, 8, 9]\n"
     ]
    }
   ],
   "source": [
    "#48. List of Lists Concatenation: Given a list of nested lists, write a Python program to concatenate all the sublists into a single flat list.\n",
    "\n",
    "\n",
    "nested_lists = [[1, 2, 3], [4, 5, 6], [7, 8, 9]]\n",
    "\n",
    "flat_list = [item for sublist in nested_lists for item in sublist]\n",
    "\n",
    "print(\"Concatenated flat list:\", flat_list)"
   ]
  },
  {
   "cell_type": "code",
   "execution_count": 266,
   "id": "0c54ded8-ab7b-4a66-8128-50d98dc620f7",
   "metadata": {},
   "outputs": [
    {
     "name": "stdout",
     "output_type": "stream",
     "text": [
      "Concatenated Tuple: (1, 2, 3, 4, 5, 6)\n"
     ]
    }
   ],
   "source": [
    "#49. Tuple Concatenation: Write a Python program to concatenate two tuples and create a new tuple.\n",
    "\n",
    "\n",
    "# Define two tuples\n",
    "tuple1 = (1, 2, 3)\n",
    "tuple2 = (4, 5, 6)\n",
    "\n",
    "concat_tuple = tuple1 + tuple2\n",
    "\n",
    "print('Concatenated Tuple:', concat_tuple)"
   ]
  },
  {
   "cell_type": "code",
   "execution_count": 268,
   "id": "349bc14d-20fe-43d1-94e4-8728d5a12d17",
   "metadata": {},
   "outputs": [
    {
     "name": "stdout",
     "output_type": "stream",
     "text": [
      "10 20 30\n"
     ]
    }
   ],
   "source": [
    "#50. Tuple Unpacking: Given a tuple with three elements (x, y, z), write a Python program to unpack the tuple and assign the values to three variables.\n",
    "\n",
    "\n",
    "my_tuple = (10, 20, 30)\n",
    "\n",
    "x,y,z = my_tuple\n",
    "print(x,y,z)"
   ]
  },
  {
   "cell_type": "code",
   "execution_count": 269,
   "id": "f86c7c17-3745-496a-a7e1-4cdab156b2ce",
   "metadata": {},
   "outputs": [
    {
     "name": "stdout",
     "output_type": "stream",
     "text": [
      "(1, 3, 5, 7, 9)\n"
     ]
    }
   ],
   "source": [
    "#51. Tuple Sorting: Write a Python program to sort a tuple of integers in ascending order.\n",
    "\n",
    "\n",
    "my_tuple = (5, 1, 9, 3, 7)\n",
    "\n",
    "temp_list = list(my_tuple)\n",
    "\n",
    "temp_list.sort()\n",
    "\n",
    "sorted_tuple = tuple(temp_list)\n",
    "\n",
    "print(sorted_tuple)"
   ]
  },
  {
   "cell_type": "code",
   "execution_count": 271,
   "id": "90f6ab51-19bd-41c5-be3e-4da199ad239a",
   "metadata": {},
   "outputs": [
    {
     "name": "stdout",
     "output_type": "stream",
     "text": [
      "4\n"
     ]
    }
   ],
   "source": [
    "#52. Tuple Frequency Count: Given a tuple containing various elements, write a Python program to count the frequency of a specific element in the tuple.\n",
    "\n",
    "\n",
    "\n",
    "my_tuple = (1, 3, 5, 3, 7, 3, 9, 3, 1)\n",
    "\n",
    "count_of = 3\n",
    "\n",
    "frequency = my_tuple.count(count_of)\n",
    "\n",
    "print(frequency)"
   ]
  },
  {
   "cell_type": "code",
   "execution_count": 273,
   "id": "e8bb847a-d3fb-488f-a600-7800548730b0",
   "metadata": {},
   "outputs": [
    {
     "name": "stdout",
     "output_type": "stream",
     "text": [
      "[1, 3, 5, 3, 7, 3, 9, 3, 1]\n"
     ]
    }
   ],
   "source": [
    "#53. Tuple to List: Write a Python program to convert a tuple into a list.\n",
    "\n",
    "\n",
    "my_tuple = (1, 3, 5, 3, 7, 3, 9, 3, 1)\n",
    "\n",
    "t_list = list(my_tuple)\n",
    "print(t_list)"
   ]
  },
  {
   "cell_type": "code",
   "execution_count": 276,
   "id": "0c9476d9-88d0-4d08-a197-50557a49441d",
   "metadata": {},
   "outputs": [
    {
     "name": "stdout",
     "output_type": "stream",
     "text": [
      "(1, 3, 9, 3, 7, 3, 5, 3, 1)\n"
     ]
    }
   ],
   "source": [
    "#54. Tuple Reversal: Write a Python program to reverse a tuple without using any built-in functions.\n",
    "my_tuple = (1, 3, 5, 3, 7, 3, 9, 3, 1)\n",
    "\n",
    "t_list = list(my_tuple)\n",
    "rev_s = []\n",
    "\n",
    "for i in range(len(t_list) -1 , -1 , -1):\n",
    "    rev_s.append(t_list[i])\n",
    "rev_s = tuple(rev_s)\n",
    "print(rev_s)"
   ]
  },
  {
   "cell_type": "code",
   "execution_count": 281,
   "id": "86bbdd21-a7f8-4597-8293-1305f9ab2685",
   "metadata": {},
   "outputs": [
    {
     "name": "stdout",
     "output_type": "stream",
     "text": [
      "(5, 3, 7)\n"
     ]
    }
   ],
   "source": [
    "#55. Tuple Slicing: Given a tuple, write a Python program to extract a slice of elements from it.\n",
    "\n",
    "\n",
    "my_tuple = (1, 3, 5, 3, 7, 3, 9, 3, 1)\n",
    "print(my_tuple[2:5])"
   ]
  },
  {
   "cell_type": "code",
   "execution_count": 284,
   "id": "26513b4a-1646-4650-a232-358565762fb3",
   "metadata": {},
   "outputs": [
    {
     "name": "stdout",
     "output_type": "stream",
     "text": [
      "(6, 8, 10, 12) (-4, -4, -4, -4) (5, 12, 21, 32)\n"
     ]
    }
   ],
   "source": [
    "#56. Tuple Operations: Given two tuples of integers, write a Python program to perform element-wise addition, subtraction, and multiplication and create new tuples for each operation.\n",
    "\n",
    "\n",
    "tuple1 = (1, 2, 3, 4)\n",
    "tuple2 = (5, 6, 7, 8)\n",
    "if len(tuple1) == len(tuple2):\n",
    "    add_tuple = tuple(tuple1[i] + tuple2[i] for i in range(len(tuple1)))\n",
    "    sub_tuple = tuple(tuple1[i] - tuple2[i] for i in range(len(tuple1)))\n",
    "    mul_tuple = tuple(tuple1[i] * tuple2[i] for i in range(len(tuple1)))\n",
    "\n",
    "    print(add_tuple, sub_tuple, mul_tuple)\n",
    "else:\n",
    "    print('Tuples not in same length')"
   ]
  },
  {
   "cell_type": "code",
   "execution_count": 293,
   "id": "a64ef22c-2adc-4071-98b5-6547ddf8ab87",
   "metadata": {},
   "outputs": [
    {
     "name": "stdin",
     "output_type": "stream",
     "text": [
      " 5\n"
     ]
    },
    {
     "name": "stdout",
     "output_type": "stream",
     "text": [
      "it has 5\n"
     ]
    }
   ],
   "source": [
    "#57. Tuple Membership Test: Write a Python program that takes an element as input and checks if it exists in a given tuple.\n",
    "\n",
    "\n",
    "inp = int(input())\n",
    "my_tuple = (1, 3, 5, 3, 7, 3, 9, 3, 1)\n",
    "found = False\n",
    "for i in range(len(my_tuple)):\n",
    "    if inp == my_tuple[i]:\n",
    "        print('it has', inp)\n",
    "        found = True\n",
    "        break\n",
    "if not found:    \n",
    "    print('nope')"
   ]
  },
  {
   "cell_type": "code",
   "execution_count": 294,
   "id": "c9ca3b93-74a2-416d-8479-f3a59fbc574e",
   "metadata": {},
   "outputs": [
    {
     "name": "stdout",
     "output_type": "stream",
     "text": [
      "Packed Tuple: (10, 20, 30)\n"
     ]
    }
   ],
   "source": [
    "#58. Tuple Packing: Write a Python program to pack three variables into a single tuple and print the tuple.\n",
    "\n",
    "\n",
    "\n",
    "x = 10\n",
    "y = 20\n",
    "z = 30\n",
    "\n",
    "my_tuple = (x, y, z)\n",
    "\n",
    "print(\"Packed Tuple:\", my_tuple)\n"
   ]
  },
  {
   "cell_type": "code",
   "execution_count": 295,
   "id": "8aca9e47-7c81-4328-9d53-a38b9a8f032b",
   "metadata": {},
   "outputs": [
    {
     "name": "stdout",
     "output_type": "stream",
     "text": [
      "1 5 9\n"
     ]
    }
   ],
   "source": [
    "#59. Nested List Element Access: Given a nested list, write a Python program to access and print specific elements from it.\n",
    "\n",
    "\n",
    "nested_list = [\n",
    "    [1, 2, 3],\n",
    "    [4, 5, 6],\n",
    "    [7, 8, 9]\n",
    "]\n",
    "\n",
    "fst_ele = nested_list[0][0]\n",
    "snd_ele = nested_list[1][1]\n",
    "trd_ele = nested_list[2][2]\n",
    "\n",
    "print(fst_ele, snd_ele, trd_ele)"
   ]
  },
  {
   "cell_type": "code",
   "execution_count": 296,
   "id": "9753fbf5-1ac5-49fc-873c-13e4edded519",
   "metadata": {},
   "outputs": [
    {
     "name": "stdout",
     "output_type": "stream",
     "text": [
      "Flattened list: [1, 2, 3, 4, 5, 6, 7, 8, 9]\n"
     ]
    }
   ],
   "source": [
    "#60. Nested List Flattening: Write a Python program to flatten a nested list and convert it into a single-dimensional list.\n",
    "\n",
    "\n",
    "nested_list = [[1, 2, 3], [4, 5], [6, 7, 8, 9]]\n",
    "\n",
    "flat_list = [item for sublist in nested_list for item in sublist]\n",
    "\n",
    "print(\"Flattened list:\", flat_list)\n"
   ]
  },
  {
   "cell_type": "code",
   "execution_count": 297,
   "id": "96f9a741-3ab3-425b-9096-33ea43c06f5d",
   "metadata": {},
   "outputs": [
    {
     "name": "stdout",
     "output_type": "stream",
     "text": [
      "[[10], [4, 5], [1, 2, 3], [6, 7, 8, 9]]\n"
     ]
    }
   ],
   "source": [
    "#61. Nested List Sorting: Given a nested list containing lists of integers, write a Python program to sort the sublists based on their lengths.\n",
    "\n",
    "\n",
    "nested_list = [[1, 2, 3], [4, 5], [6, 7, 8, 9], [10]]\n",
    "\n",
    "sorted_nested_list = sorted(nested_list, key=len)\n",
    "\n",
    "print(sorted_nested_list)"
   ]
  },
  {
   "cell_type": "code",
   "execution_count": 299,
   "id": "ae5115a3-3f37-4e36-8287-2c06352afe0e",
   "metadata": {},
   "outputs": [
    {
     "name": "stdout",
     "output_type": "stream",
     "text": [
      "[1, 3, 5, 7] [2, 4, 6, 8]\n"
     ]
    }
   ],
   "source": [
    "#62. List of Tuples Conversion: Given a nested list containing tuples of (x, y) coordinates, write a Python program to convert it into a list of x-coordinates and a list of y-coordinates.\n",
    "\n",
    "coordinates = [(1, 2), (3, 4), (5, 6), (7, 8)]\n",
    "\n",
    "x_coor = [x for x,y in coordinates]\n",
    "y_coor = [y for x,y in coordinates]\n",
    "\n",
    "print(x_coor, y_coor)"
   ]
  },
  {
   "cell_type": "code",
   "execution_count": 304,
   "id": "44fe50c7-fe06-47df-853c-0a13a13bf607",
   "metadata": {},
   "outputs": [
    {
     "name": "stdout",
     "output_type": "stream",
     "text": [
      "[1, 4, 7]\n",
      "[2, 5, 8]\n",
      "[3, 6, 9]\n"
     ]
    }
   ],
   "source": [
    "#63. Matrix Transpose: Write a Python program to transpose a given matrix represented as a nested list.\n",
    "\n",
    "\n",
    "matrix = [\n",
    "    [1, 2, 3],\n",
    "    [4, 5, 6],\n",
    "    [7, 8, 9]\n",
    "]\n",
    "\n",
    "transpose = []\n",
    "\n",
    "for i in range(len(matrix[0])):\n",
    "    rows = []\n",
    "    for j in range(len(matrix)):\n",
    "        rows.append(matrix[j][i])\n",
    "    transpose.append(rows)\n",
    "\n",
    "for rows in transpose:\n",
    "    print(rows)\n",
    "    "
   ]
  },
  {
   "cell_type": "code",
   "execution_count": 306,
   "id": "afd46c55-ca35-4ed0-904c-8ee4f4e6032e",
   "metadata": {},
   "outputs": [
    {
     "name": "stdout",
     "output_type": "stream",
     "text": [
      "Concatenated flat list: [1, 2, 3, 4, 5, 6, 7, 8, 9]\n"
     ]
    }
   ],
   "source": [
    "#64. Nested List Concatenation: Given a list of nested lists, write a Python program to concatenate all the sublists into a single flat list.\n",
    "\n",
    "\n",
    "nested_list = [[1, 2, 3], [4, 5, 6], [7, 8, 9]]\n",
    "\n",
    "flat_list = [item for sublist in nested_list for item in sublist]\n",
    "\n",
    "print(\"Concatenated flat list:\", flat_list)"
   ]
  },
  {
   "cell_type": "code",
   "execution_count": 309,
   "id": "48c5085f-b82b-4e01-932b-c0a8b60c1e84",
   "metadata": {},
   "outputs": [
    {
     "name": "stdout",
     "output_type": "stream",
     "text": [
      "Number of even numbers: 4\n"
     ]
    }
   ],
   "source": [
    "#65. Count Even Numbers: Write a Python program to count the number of even numbers in a nested list.\n",
    "\n",
    "\n",
    "nested_list = [[1, 2, 3], [4, 5, 6], [7, 8, 9]]\n",
    "\n",
    "even_count = 0\n",
    "\n",
    "for sublist in nested_list:\n",
    "    for item in sublist:\n",
    "        if item % 2 == 0:\n",
    "            even_count += 1\n",
    "\n",
    "print(\"Number of even numbers:\", even_count)"
   ]
  },
  {
   "cell_type": "code",
   "execution_count": 310,
   "id": "1ef71041-52a8-4eab-9672-59351338bf83",
   "metadata": {},
   "outputs": [
    {
     "name": "stdout",
     "output_type": "stream",
     "text": [
      "Maximum element: 9\n"
     ]
    }
   ],
   "source": [
    "#66. Maximum Element in Nested List: Write a Python program to find the maximum element in a nested list of integers.\n",
    "\n",
    "\n",
    "nested_list = [[1, 2, 3], [4, 5, 6], [7, 8, 9]]\n",
    "\n",
    "max_element = float('-inf')\n",
    "\n",
    "for sublist in nested_list:\n",
    "    for item in sublist:\n",
    "        if item > max_element:\n",
    "            max_element = item\n",
    "            \n",
    "print(\"Maximum element:\", max_element)\n"
   ]
  },
  {
   "cell_type": "code",
   "execution_count": 311,
   "id": "0c2136ed-a3da-4f6c-a1ef-848b333ea1a0",
   "metadata": {},
   "outputs": [
    {
     "name": "stdout",
     "output_type": "stream",
     "text": [
      "Sum of the diagonal elements: 15\n"
     ]
    }
   ],
   "source": [
    "#67. Diagonal Sum of Matrix: Given a square matrix represented as a nested list, write a Python program to calculate the sum of the elements in the main diagonal.\n",
    "\n",
    "\n",
    "matrix = [\n",
    "    [1, 2, 3],\n",
    "    [4, 5, 6],\n",
    "    [7, 8, 9]\n",
    "]\n",
    "\n",
    "diagonal_sum = 0\n",
    "\n",
    "for i in range(len(matrix)):\n",
    "    diagonal_sum += matrix[i][i]\n",
    "\n",
    "print(\"Sum of the diagonal elements:\", diagonal_sum)\n"
   ]
  },
  {
   "cell_type": "code",
   "execution_count": 313,
   "id": "46ad220b-5339-4d26-abaa-b81f369a69d8",
   "metadata": {},
   "outputs": [
    {
     "name": "stdout",
     "output_type": "stream",
     "text": [
      "found at 1 1\n"
     ]
    }
   ],
   "source": [
    "#68. Nested List Element Search: Write a Python program to search for a specific element in a nested list and return its position (row and column indices).\n",
    "\n",
    "\n",
    "matrix = [\n",
    "    [1, 2, 3],\n",
    "    [4, 5, 6],\n",
    "    [7, 8, 9]\n",
    "]\n",
    "\n",
    "ele_to_search = 5\n",
    "\n",
    "found = False\n",
    "\n",
    "for i in range(len(matrix)):\n",
    "    for j in range(len(matrix[i])):\n",
    "        if matrix[i][j] == ele_to_search:\n",
    "            print('found at', i,j)\n",
    "            found = True\n",
    "            break\n",
    "    if found:\n",
    "        break\n",
    "\n",
    "if not found:\n",
    "    print('not found')"
   ]
  },
  {
   "cell_type": "code",
   "execution_count": 314,
   "id": "91dc0985-a1fb-43b0-9509-5c81fb728d68",
   "metadata": {},
   "outputs": [
    {
     "name": "stdout",
     "output_type": "stream",
     "text": [
      "Set of unique elements: {1, 2, 3, 4, 5, 6}\n"
     ]
    }
   ],
   "source": [
    "#69. Duplicate Removal: Write a Python program that takes a list of elements as input and creates a new set containing only the unique elements from the list.\n",
    "\n",
    "\n",
    "input_list = [1, 2, 2, 3, 4, 4, 5, 5, 5, 6]\n",
    "\n",
    "unique_elements = set(input_list)\n",
    "\n",
    "print(\"Set of unique elements:\", unique_elements)\n"
   ]
  },
  {
   "cell_type": "code",
   "execution_count": 316,
   "id": "a6d97b4f-13c9-45ec-8e38-d76745eb6958",
   "metadata": {},
   "outputs": [
    {
     "name": "stdout",
     "output_type": "stream",
     "text": [
      "Intersection of A and B: {4, 5}\n"
     ]
    }
   ],
   "source": [
    "#70. Set Intersection: Given two sets A and B, write a Python program to find their intersection and print the common elements.\n",
    "\n",
    "\n",
    "set_A = {1, 2, 3, 4, 5}\n",
    "set_B = {4, 5, 6, 7, 8}\n",
    "\n",
    "intersection_set = set_A & set_B\n",
    "\n",
    "print(\"Intersection of A and B:\", intersection_set)\n"
   ]
  },
  {
   "cell_type": "code",
   "execution_count": 323,
   "id": "b5f0ee14-862b-4132-9805-b68eb4b80495",
   "metadata": {},
   "outputs": [
    {
     "name": "stdout",
     "output_type": "stream",
     "text": [
      "Union of the sets: {1, 2, 3, 4, 5, 6, 7, 8}\n"
     ]
    }
   ],
   "source": [
    "#71. Set Union: Given two sets A and B, write a Python program to find their union and print all the distinct elements from both sets.\n",
    "\n",
    "\n",
    "set_A = {1, 2, 3, 4, 5}\n",
    "set_B = {4, 5, 6, 7, 8}\n",
    "\n",
    "union_set = set_A.union(set_B)\n",
    "\n",
    "print(\"Union of the sets:\", union_set)"
   ]
  },
  {
   "cell_type": "code",
   "execution_count": 324,
   "id": "7286d9ca-9e5c-4fdb-974f-308941637311",
   "metadata": {},
   "outputs": [
    {
     "name": "stdout",
     "output_type": "stream",
     "text": [
      "Difference of the sets: {1, 2, 3}\n"
     ]
    }
   ],
   "source": [
    "#72. Set Difference: Given two sets A and B, write a Python program to find the difference between set A and set B (i.e., elements present in A but not in B) and print the result.\n",
    "\n",
    "\n",
    "set_A = {1, 2, 3, 4, 5}\n",
    "set_B = {4, 5, 6, 7, 8}\n",
    "\n",
    "diff_set = set_A.difference(set_B)\n",
    "\n",
    "print(\"Difference of the sets:\", diff_set)"
   ]
  },
  {
   "cell_type": "code",
   "execution_count": 325,
   "id": "a930846e-87f4-4b0d-8193-18293f9ae959",
   "metadata": {},
   "outputs": [
    {
     "name": "stdout",
     "output_type": "stream",
     "text": [
      "Difference of the sets: {1, 2, 3, 6, 7, 8}\n"
     ]
    }
   ],
   "source": [
    "#73. Set Symmetric Difference: Given two sets A and B, write a Python program to find the symmetric difference between the two sets (i.e., elements that are present in either set A or set B, but not in both) and print the result.\n",
    "\n",
    "\n",
    "set_A = {1, 2, 3, 4, 5}\n",
    "set_B = {4, 5, 6, 7, 8}\n",
    "\n",
    "symm_diff_set = set_A.symmetric_difference(set_B)\n",
    "\n",
    "print(\"Difference of the sets:\", symm_diff_set)"
   ]
  },
  {
   "cell_type": "code",
   "execution_count": 326,
   "id": "474a1b7a-ccab-4fcf-9c35-f404e721b1ed",
   "metadata": {},
   "outputs": [
    {
     "name": "stdout",
     "output_type": "stream",
     "text": [
      "Intersection of A and B: {4, 5}\n",
      "Union of B and C: {1, 4, 5, 6, 7, 8, 9}\n",
      "Difference between C and A (C - A): {8, 9, 7}\n"
     ]
    }
   ],
   "source": [
    "#74. Set Operations: Given three sets A, B, and C, write a Python program to find and print the intersection of A and B, the union of B and C, and the difference between C and A.\n",
    "\n",
    "\n",
    "set_A = {1, 2, 3, 4, 5}\n",
    "set_B = {4, 5, 6, 7}\n",
    "set_C = {7, 8, 9, 1}\n",
    "\n",
    "intersection_AB = set_A & set_B\n",
    "\n",
    "union_BC = set_B | set_C\n",
    "\n",
    "difference_CA = set_C - set_A\n",
    "\n",
    "print(\"Intersection of A and B:\", intersection_AB)\n",
    "print(\"Union of B and C:\", union_BC)\n",
    "print(\"Difference between C and A (C - A):\", difference_CA)"
   ]
  },
  {
   "cell_type": "code",
   "execution_count": 328,
   "id": "7b845e68-38c9-4bb6-b26b-3cbbdcb980ba",
   "metadata": {},
   "outputs": [
    {
     "name": "stdout",
     "output_type": "stream",
     "text": [
      "Set A is a subset of Set B.\n"
     ]
    }
   ],
   "source": [
    "#75. Set Subset Check: Given two sets A and B, write a Python program to check if set A is a subset of set B and print the result.\n",
    "\n",
    "\n",
    "set_A = {1, 2, 3}\n",
    "set_B = {1, 2, 3, 4, 5}\n",
    "\n",
    "is_subset = set_A.issubset(set_B)\n",
    "\n",
    "if is_subset:\n",
    "    print(\"Set A is a subset of Set B.\")\n",
    "else:\n",
    "    print(\"Set A is not a subset of Set B.\")"
   ]
  },
  {
   "cell_type": "code",
   "execution_count": 329,
   "id": "d6f742df-8257-4b12-801e-62f8f9d2d268",
   "metadata": {},
   "outputs": [
    {
     "name": "stdout",
     "output_type": "stream",
     "text": [
      "Set A is a superset of Set B.\n"
     ]
    }
   ],
   "source": [
    "#76. Set Superset Check: Given two sets A and B, write a Python program to check if set A is a superset of set B and print the result.\n",
    "\n",
    "\n",
    "set_A = {1, 2, 3, 4, 5}\n",
    "set_B = {1, 2, 3}\n",
    "\n",
    "is_superset = set_A.issuperset(set_B)\n",
    "\n",
    "if is_superset:\n",
    "    print(\"Set A is a superset of Set B.\")\n",
    "else:\n",
    "    print(\"Set A is not a superset of Set B.\")\n"
   ]
  },
  {
   "cell_type": "code",
   "execution_count": 336,
   "id": "440a0c91-5762-4f1c-bc45-1acd6ab0fc5e",
   "metadata": {},
   "outputs": [
    {
     "name": "stdin",
     "output_type": "stream",
     "text": [
      "Enter elements of the set separated by spaces:  1 2\n"
     ]
    },
    {
     "name": "stdout",
     "output_type": "stream",
     "text": [
      "The number of elements in the set is: 2\n",
      "The number of elements in the set is: 5\n"
     ]
    }
   ],
   "source": [
    "#77. Set Length Check: Write a Python program that takes a set as input and prints the number of elements in the set.\n",
    "\n",
    "\n",
    "user_input = input(\"Enter elements of the set separated by spaces: \")\n",
    "\n",
    "user_set = set(user_input.split())\n",
    "\n",
    "set_length = len(user_set)\n",
    "\n",
    "print(\"The number of elements in the set is:\", set_length)\n",
    "\n",
    "\n",
    "######\n",
    "\n",
    "my_set = {1, 2, 3, 4, 5}\n",
    "\n",
    "set_length = len(my_set)\n",
    "\n",
    "print(\"The number of elements in the set is:\", set_length)\n"
   ]
  },
  {
   "cell_type": "code",
   "execution_count": 341,
   "id": "2fc0bc86-cdfc-4366-b0b6-565ce9837173",
   "metadata": {},
   "outputs": [
    {
     "name": "stdin",
     "output_type": "stream",
     "text": [
      "Enter element:  5\n"
     ]
    },
    {
     "name": "stdout",
     "output_type": "stream",
     "text": [
      "found\n"
     ]
    }
   ],
   "source": [
    "#78. Set Membership Test: Write a Python program that takes an element as input and checks if it exists in a given set. Print “Found” if the element is present and “Not Found” otherwise.\n",
    "my_set = {1, 2, 3, 4, 5}\n",
    "user_input = input(\"Enter element: \")\n",
    "\n",
    "user_input = int(user_input)\n",
    "if user_input in my_set:\n",
    "    print('found')\n",
    "else:\n",
    "    print('Not found')\n",
    "\n"
   ]
  },
  {
   "cell_type": "code",
   "execution_count": 342,
   "id": "a422b5b6-82d8-47e8-a7f2-011a90763254",
   "metadata": {},
   "outputs": [
    {
     "name": "stdin",
     "output_type": "stream",
     "text": [
      "Enter the name of the new student:  Did\n",
      "Enter Did's score:  91\n",
      "Enter the name of the student to update:  Charlie\n",
      "Enter the new score for Charlie:  85\n"
     ]
    },
    {
     "name": "stdout",
     "output_type": "stream",
     "text": [
      "Updated student scores: {'Alice': 85, 'Bob': 90, 'Charlie': 85, 'Did': 91}\n"
     ]
    }
   ],
   "source": [
    "#79. Dictionary Manipulation: Given a dictionary with student names as keys and their corresponding scores as values, write a Python program to add a new student to the dictionary and update the score of an existing student.\n",
    "student_scores = {\n",
    "    \"Alice\": 85,\n",
    "    \"Bob\": 90,\n",
    "    \"Charlie\": 78\n",
    "}\n",
    "\n",
    "new_student = input(\"Enter the name of the new student: \")\n",
    "new_score = int(input(f\"Enter {new_student}'s score: \"))\n",
    "student_scores[new_student] = new_score\n",
    "\n",
    "existing_student = input(\"Enter the name of the student to update: \")\n",
    "updated_score = int(input(f\"Enter the new score for {existing_student}: \"))\n",
    "student_scores[existing_student] = updated_score\n",
    "\n",
    "print(\"Updated student scores:\", student_scores)"
   ]
  },
  {
   "cell_type": "code",
   "execution_count": 380,
   "id": "efdd8c48-ff41-4cc1-8c23-23b0352262ea",
   "metadata": {},
   "outputs": [
    {
     "name": "stdout",
     "output_type": "stream",
     "text": [
      "\n",
      " Alice\n",
      "\n",
      " Bob\n",
      "\n",
      " Charlie\n",
      "\n",
      " 85\n",
      "\n",
      " 90\n",
      "\n",
      " 78\n"
     ]
    }
   ],
   "source": [
    "#80. Dictionary Keys and Values: Write a Python program that takes a dictionary as input and prints all the keys and values in separate lines.\n",
    "\n",
    "\n",
    "dict_n = {\n",
    "    \"Alice\": 85,\n",
    "    \"Bob\": 90,\n",
    "    \"Charlie\": 78\n",
    "}\n",
    "\n",
    "for keys in dict_n:\n",
    "    print('\\n',keys)\n",
    "\n",
    "for value in dict_n.values():\n",
    "    print('\\n',value)"
   ]
  },
  {
   "cell_type": "code",
   "execution_count": 378,
   "id": "33339257-08bd-4da9-9862-a8d352123b3a",
   "metadata": {},
   "outputs": [
    {
     "name": "stdout",
     "output_type": "stream",
     "text": [
      "dict_len is 3\n"
     ]
    }
   ],
   "source": [
    "#81. Dictionary Length: Write a Python program to calculate and print the number of key-value pairs in a given dictionary.\n",
    "\n",
    "\n",
    "dict_l = {\n",
    "    \"Alice\": 85,\n",
    "    \"Bob\": 90,\n",
    "    \"Charlie\": 78\n",
    "}\n",
    "\n",
    "dict_len = len(dict_l)\n",
    "print('dict_len is',dict_len)"
   ]
  },
  {
   "cell_type": "code",
   "execution_count": 362,
   "id": "06f043a4-e6c4-4e7a-8aa9-fabccaee39da",
   "metadata": {},
   "outputs": [
    {
     "name": "stdin",
     "output_type": "stream",
     "text": [
      "Enter the price to search for:  100\n"
     ]
    },
    {
     "name": "stdout",
     "output_type": "stream",
     "text": [
      "The item with price 100 is: apple\n"
     ]
    }
   ],
   "source": [
    "#82. Dictionary Value Search: Given a dictionary of items and their prices, write a Python program to search for an item based on its price and print the item’s name.\n",
    "\n",
    "\n",
    "items_prices = {\n",
    "    \"apple\": 100,\n",
    "    \"banana\": 40,\n",
    "    \"orange\": 60,\n",
    "    \"mango\": 150\n",
    "}\n",
    "\n",
    "price_to_search = int(input(\"Enter the price to search for: \"))\n",
    "\n",
    "found = False\n",
    "\n",
    "for item, price in items_prices.items():\n",
    "    if price == price_to_search:\n",
    "        print(f\"The item with price {price_to_search} is: {item}\")\n",
    "        found = True\n",
    "        break\n",
    "\n",
    "if not found:\n",
    "    print(f\"No item found with price {price_to_search}\")\n"
   ]
  },
  {
   "cell_type": "code",
   "execution_count": 363,
   "id": "abaf2fc9-1503-4b15-9018-333861684e10",
   "metadata": {},
   "outputs": [
    {
     "name": "stdout",
     "output_type": "stream",
     "text": [
      "Merged Dictionary: {'apple': 100, 'banana': 40, 'orange': 60, 'mango': 150}\n"
     ]
    }
   ],
   "source": [
    "#83. Dictionary Merging: Given two dictionaries, write a Python program to merge them into a single dictionary and print the result.\n",
    "\n",
    "\n",
    "dict1 = {\"apple\": 100, \"banana\": 40}\n",
    "dict2 = {\"orange\": 60, \"mango\": 150}\n",
    "\n",
    "merged_dict = dict1.copy()\n",
    "\n",
    "merged_dict.update(dict2)\n",
    "\n",
    "print(\"Merged Dictionary:\", merged_dict)\n"
   ]
  },
  {
   "cell_type": "code",
   "execution_count": 373,
   "id": "56ef89d6-7df9-4b5c-b03c-0e0192cffa48",
   "metadata": {},
   "outputs": [
    {
     "name": "stdin",
     "output_type": "stream",
     "text": [
      "Enter the item to remove:  banana\n"
     ]
    },
    {
     "name": "stdout",
     "output_type": "stream",
     "text": [
      "The item banana has been removed.\n",
      "{'apple': 100, 'orange': 60, 'mango': 150}\n"
     ]
    }
   ],
   "source": [
    "#84. Dictionary Key Removal: Given a dictionary of items and their quantities, write a Python program to remove a specific item from the dictionary based on user input.\n",
    "\n",
    "\n",
    "items_prices = {\n",
    "    \"apple\": 100,\n",
    "    \"banana\": 40,\n",
    "    \"orange\": 60,\n",
    "    \"mango\": 150\n",
    "}\n",
    "\n",
    "remove_i = input(\"Enter the item to remove: \")\n",
    "\n",
    "found = False\n",
    "\n",
    "for item, price in items_prices.items():\n",
    "    if item == remove_i:\n",
    "        items_prices.pop(item)\n",
    "        print(f\"The item {remove_i} has been removed.\")\n",
    "        print(items_prices)\n",
    "        found = True\n",
    "        break\n",
    "\n",
    "if not found:\n",
    "    print(f\"No item found on: {remove_i}\")\n"
   ]
  },
  {
   "cell_type": "code",
   "execution_count": 1,
   "id": "800abcca-6108-4abe-9931-13f5f2dfe8b2",
   "metadata": {},
   "outputs": [
    {
     "name": "stdout",
     "output_type": "stream",
     "text": [
      "Dictionary sorted by age: {'Charlie': 20, 'Alice': 25, 'Bob': 30, 'David': 35}\n"
     ]
    }
   ],
   "source": [
    "#85. Dictionary Sorting: Given a dictionary with names as keys and corresponding ages as values, write a Python program to sort the dictionary based on age in ascending order.\n",
    "\n",
    "\n",
    "names_ages = {\n",
    "    \"Alice\": 25,\n",
    "    \"Bob\": 30,\n",
    "    \"Charlie\": 20,\n",
    "    \"David\": 35\n",
    "}\n",
    "\n",
    "sorted_dict = dict(sorted(names_ages.items(), key=lambda item: item[1]))\n",
    "\n",
    "print(\"Dictionary sorted by age:\", sorted_dict)\n"
   ]
  },
  {
   "cell_type": "code",
   "execution_count": 5,
   "id": "55f2564c-a347-4fab-ba38-82f8ca4e951f",
   "metadata": {},
   "outputs": [
    {
     "name": "stdin",
     "output_type": "stream",
     "text": [
      " light\n"
     ]
    },
    {
     "name": "stdout",
     "output_type": "stream",
     "text": [
      "{'l': 1, 'i': 1, 'g': 1, 'h': 1, 't': 1}\n"
     ]
    }
   ],
   "source": [
    "#86. Dictionary Frequency Count: Write a Python program that takes a string as input and creates a dictionary containing each character as a key and its frequency as the value.\n",
    "\n",
    "\n",
    "n = input()\n",
    "\n",
    "char_freq = {}\n",
    "\n",
    "for char in n:\n",
    "    if char in char_freq:\n",
    "        char_freq[char] += 1\n",
    "    else:\n",
    "        char_freq[char] = 1\n",
    "\n",
    "print(char_freq)"
   ]
  },
  {
   "cell_type": "code",
   "execution_count": 6,
   "id": "93db3b0e-e894-4cf3-a1c7-915bbf90122f",
   "metadata": {},
   "outputs": [
    {
     "name": "stdout",
     "output_type": "stream",
     "text": [
      "Dictionary of numbers and their squares: {1: 1, 2: 4, 3: 9, 4: 16, 5: 25}\n"
     ]
    }
   ],
   "source": [
    "#87. Dictionary Comprehension: Given a list of integers, write a Python program to create a dictionary where the keys are the elements from the list, and the values are their squares.\n",
    "\n",
    "\n",
    "numbers = [1, 2, 3, 4, 5]\n",
    "\n",
    "squares_dict = {num: num**2 for num in numbers}\n",
    "\n",
    "print(\"Dictionary of numbers and their squares:\", squares_dict)\n"
   ]
  },
  {
   "cell_type": "code",
   "execution_count": 7,
   "id": "61b63f68-7345-4b6c-9cfb-b00d86803b74",
   "metadata": {},
   "outputs": [
    {
     "name": "stdin",
     "output_type": "stream",
     "text": [
      "Enter the key to check:  banana\n"
     ]
    },
    {
     "name": "stdout",
     "output_type": "stream",
     "text": [
      "Key Found\n"
     ]
    }
   ],
   "source": [
    "#88. Dictionary Key Check: Write a Python program that takes a key as input and checks if it exists in a given dictionary. Print “Key Found” if the key is present and “Key Not Found” otherwise.\n",
    "\n",
    "\n",
    "items_prices = {\n",
    "    \"apple\": 100,\n",
    "    \"banana\": 40,\n",
    "    \"orange\": 60,\n",
    "    \"mango\": 150\n",
    "}\n",
    "\n",
    "key_to_check = input(\"Enter the key to check: \")\n",
    "\n",
    "if key_to_check in items_prices:\n",
    "    print(\"Key Found\")\n",
    "else:\n",
    "    print(\"Key Not Found\")\n"
   ]
  },
  {
   "cell_type": "code",
   "execution_count": 8,
   "id": "ff6d9796-91ae-4c6f-80c1-12ec9283be86",
   "metadata": {},
   "outputs": [
    {
     "name": "stdout",
     "output_type": "stream",
     "text": [
      "Student 1: Name: Alice, Age: 22, Address: 123 Apple St.\n",
      "Student 2: Name: Bob, Age: 23, Address: 456 Banana Ave.\n"
     ]
    }
   ],
   "source": [
    "#89. Access Nested Dictionary: Given a nested dictionary containing student details, write a Python program to access and print specific information such as a student’s name, age, and address.\n",
    "\n",
    "\n",
    "students_info = {\n",
    "    \"student1\": {\n",
    "        \"name\": \"Alice\",\n",
    "        \"age\": 22,\n",
    "        \"address\": \"123 Apple St.\"\n",
    "    },\n",
    "    \"student2\": {\n",
    "        \"name\": \"Bob\",\n",
    "        \"age\": 23,\n",
    "        \"address\": \"456 Banana Ave.\"\n",
    "    }\n",
    "}\n",
    "\n",
    "student1_name = students_info[\"student1\"][\"name\"]\n",
    "student1_age = students_info[\"student1\"][\"age\"]\n",
    "student1_address = students_info[\"student1\"][\"address\"]\n",
    "\n",
    "student2_name = students_info[\"student2\"][\"name\"]\n",
    "student2_age = students_info[\"student2\"][\"age\"]\n",
    "student2_address = students_info[\"student2\"][\"address\"]\n",
    "\n",
    "print(f\"Student 1: Name: {student1_name}, Age: {student1_age}, Address: {student1_address}\")\n",
    "print(f\"Student 2: Name: {student2_name}, Age: {student2_age}, Address: {student2_address}\")\n"
   ]
  },
  {
   "cell_type": "code",
   "execution_count": 1,
   "id": "7c4d4e0d-d109-45e2-98c2-2e03480cd9a4",
   "metadata": {},
   "outputs": [
    {
     "name": "stdout",
     "output_type": "stream",
     "text": [
      "Total number of key-value pairs: 9\n"
     ]
    }
   ],
   "source": [
    "#90. Nested Dictionary Length: Write a Python program to calculate and print the total number of key-value pairs in a nested dictionary.\n",
    "\n",
    "\n",
    "\n",
    "students_info = {\n",
    "    \"student1\": {\n",
    "        \"name\": \"Alice\",\n",
    "        \"age\": 22,\n",
    "        \"address\": \"123 Apple St.\"\n",
    "    },\n",
    "    \"student2\": {\n",
    "        \"name\": \"Bob\",\n",
    "        \"age\": 23,\n",
    "        \"address\": \"456 Banana Ave.\"\n",
    "    },\n",
    "    \"student3\": {\n",
    "        \"name\": \"Charlie\",\n",
    "        \"age\": 21,\n",
    "        \"address\": \"789 Cherry Ln.\"\n",
    "    }\n",
    "}\n",
    "\n",
    "def count_key_value_pairs(nested_dict):\n",
    "    count = 0\n",
    "    for key, value in nested_dict.items():\n",
    "        if isinstance(value, dict):\n",
    "            count += count_key_value_pairs(value)\n",
    "        else:\n",
    "            count += 1\n",
    "    return count\n",
    "\n",
    "total_pairs = count_key_value_pairs(students_info)\n",
    "\n",
    "print(\"Total number of key-value pairs:\", total_pairs)\n"
   ]
  },
  {
   "cell_type": "code",
   "execution_count": 3,
   "id": "af905f90-e5b5-432b-9d37-24a7bbf2bcfa",
   "metadata": {},
   "outputs": [
    {
     "name": "stdin",
     "output_type": "stream",
     "text": [
      "Enter the employee ID:  101\n",
      "Enter the new salary:  75000\n"
     ]
    },
    {
     "name": "stdout",
     "output_type": "stream",
     "text": [
      "Updated salary for Alice: 75000\n",
      "\n",
      "Updated employee details: {101: {'name': 'Alice', 'age': 28, 'position': 'Developer', 'salary': 75000}, 102: {'name': 'Bob', 'age': 35, 'position': 'Manager', 'salary': 85000}, 103: {'name': 'Charlie', 'age': 25, 'position': 'Designer', 'salary': 60000}}\n"
     ]
    }
   ],
   "source": [
    "#91. Nested Dictionary Update: Given a nested dictionary of employee details, write a Python program to update an employee’s salary based on their employee ID.\n",
    "\n",
    "\n",
    "employees = {\n",
    "    101: {\n",
    "        \"name\": \"Alice\",\n",
    "        \"age\": 28,\n",
    "        \"position\": \"Developer\",\n",
    "        \"salary\": 70000\n",
    "    },\n",
    "    102: {\n",
    "        \"name\": \"Bob\",\n",
    "        \"age\": 35,\n",
    "        \"position\": \"Manager\",\n",
    "        \"salary\": 85000\n",
    "    },\n",
    "    103: {\n",
    "        \"name\": \"Charlie\",\n",
    "        \"age\": 25,\n",
    "        \"position\": \"Designer\",\n",
    "        \"salary\": 60000\n",
    "    }\n",
    "}\n",
    "\n",
    "emp_id = int(input(\"Enter the employee ID: \"))\n",
    "new_salary = int(input(\"Enter the new salary: \"))\n",
    "\n",
    "if emp_id in employees:\n",
    "    \n",
    "    employees[emp_id]['salary'] = new_salary\n",
    "    print(f\"Updated salary for {employees[emp_id]['name']}: {employees[emp_id]['salary']}\")\n",
    "else:\n",
    "    print(\"Employee ID not found.\")\n",
    "\n",
    "print(\"\\nUpdated employee details:\", employees)\n"
   ]
  },
  {
   "cell_type": "code",
   "execution_count": 6,
   "id": "8127d53b-a68c-4daa-987a-2e52d103a35e",
   "metadata": {},
   "outputs": [
    {
     "name": "stdout",
     "output_type": "stream",
     "text": [
      "Products sorted:\n",
      "Monitor: price = 300, Quantity = 12\n",
      "Tablet: price = 600, Quantity = 15\n",
      "Phone: price = 800, Quantity = 20\n",
      "Laptop: price = 1200, Quantity = 10\n"
     ]
    }
   ],
   "source": [
    "#92. Nested Dictionary Sorting: Given a nested dictionary containing product details (product name, price, and quantity), write a Python program to sort the products based on their prices in ascending order.\n",
    "\n",
    "\n",
    "products = {\n",
    "    \"product1\": {\n",
    "        \"name\": \"Laptop\",\n",
    "        \"price\": 1200,\n",
    "        \"quantity\": 10\n",
    "    },\n",
    "    \"product2\": {\n",
    "        \"name\": \"Phone\",\n",
    "        \"price\": 800,\n",
    "        \"quantity\": 20\n",
    "    },\n",
    "    \"product3\": {\n",
    "        \"name\": \"Tablet\",\n",
    "        \"price\": 600,\n",
    "        \"quantity\": 15\n",
    "    },\n",
    "    \"product4\": {\n",
    "        \"name\": \"Monitor\",\n",
    "        \"price\": 300,\n",
    "        \"quantity\": 12\n",
    "    }\n",
    "}\n",
    "sorted_products = dict(sorted(products.items(), key = lambda item: item[1]['price']))\n",
    "\n",
    "print('Products sorted:')\n",
    "for products, details in sorted_products.items():\n",
    "    print(f'{details['name']}: price = {details['price']}, Quantity = {details['quantity']}')"
   ]
  },
  {
   "cell_type": "code",
   "execution_count": 12,
   "id": "d35e168f-928f-4762-9d0a-d6801243648f",
   "metadata": {},
   "outputs": [
    {
     "name": "stdin",
     "output_type": "stream",
     "text": [
      "Enter the key to search:  age\n"
     ]
    },
    {
     "name": "stdout",
     "output_type": "stream",
     "text": [
      "Key found, corresponding value: [28, 35]\n"
     ]
    }
   ],
   "source": [
    "#93. Nested Dictionary Key Search: Write a Python program that takes a key as input and searches for it in a nested dictionary. If found, print the corresponding value, otherwise, print “Key Not Found.”\n",
    "\n",
    "\n",
    "employee_data = {\n",
    "    \"employee1\": {\n",
    "        \"name\": \"Alice\",\n",
    "        \"age\": 28,\n",
    "        \"department\": {\n",
    "            \"name\": \"Development\",\n",
    "            \"location\": \"Building A\"\n",
    "        }\n",
    "    },\n",
    "    \"employee2\": {\n",
    "        \"name\": \"Bob\",\n",
    "        \"age\": 35,\n",
    "        \"department\": {\n",
    "            \"name\": \"HR\",\n",
    "            \"location\": \"Building B\"\n",
    "        }\n",
    "    }\n",
    "}\n",
    "\n",
    "def search_key_all(nested_dict, key_to_find):\n",
    "    results = []\n",
    "    for key, value in nested_dict.items():\n",
    "        if key == key_to_find:\n",
    "            results.append(value)\n",
    "        elif isinstance(value, dict):\n",
    "            results.extend(search_key_all(value, key_to_find))\n",
    "    return results\n",
    "\n",
    "key_to_search = input('Enter the key to search: ')\n",
    "\n",
    "result = search_key_all(employee_data, key_to_search)\n",
    "\n",
    "if result:\n",
    "    print(f'Key found, corresponding value: {result}')\n",
    "else:\n",
    "    print('Key Not Found')"
   ]
  },
  {
   "cell_type": "code",
   "execution_count": 13,
   "id": "587ed9fb-ab7b-4166-86b9-adc1ecc94dcd",
   "metadata": {},
   "outputs": [
    {
     "name": "stdin",
     "output_type": "stream",
     "text": [
      "Enter a number:  1\n"
     ]
    },
    {
     "name": "stdout",
     "output_type": "stream",
     "text": [
      "1 is not a prime number.\n"
     ]
    }
   ],
   "source": [
    "#94. Prime Number Checker: Write a Python program that takes a number as input and determines if it is a prime number or not. Use a `for` loop to check for factors. If a factor is found, `break` out of the loop.\n",
    "\n",
    "\n",
    "def is_prime(number):\n",
    "    if number <= 1:\n",
    "        return False\n",
    "        \n",
    "    for i in range(2, int(number ** 0.5) + 1):\n",
    "        if number % i == 0:\n",
    "            return False\n",
    "    return True\n",
    "\n",
    "num = int(input(\"Enter a number: \"))\n",
    "\n",
    "if is_prime(num):\n",
    "    print(f\"{num} is a prime number.\")\n",
    "else:\n",
    "    print(f\"{num} is not a prime number.\")\n"
   ]
  },
  {
   "cell_type": "code",
   "execution_count": 14,
   "id": "d969a46e-5dda-465a-88b0-83677dbc300a",
   "metadata": {},
   "outputs": [
    {
     "name": "stdout",
     "output_type": "stream",
     "text": [
      "2\n",
      "4\n",
      "6\n",
      "8\n",
      "10\n",
      "12\n",
      "14\n",
      "16\n",
      "18\n",
      "20\n"
     ]
    }
   ],
   "source": [
    "#95. Even Number Printer: Write a Python program to print all even numbers from 1 to 20. Use a `for` loop and `continue` to skip odd numbers.\n",
    "\n",
    "\n",
    "for number in range(1, 21):\n",
    "    if number % 2 != 0:\n",
    "        continue\n",
    "    \n",
    "    print(number)\n"
   ]
  },
  {
   "cell_type": "code",
   "execution_count": 15,
   "id": "2c413569-29bc-4db6-8f07-382603937abc",
   "metadata": {},
   "outputs": [
    {
     "name": "stdin",
     "output_type": "stream",
     "text": [
      "Enter your password:  light1\n"
     ]
    },
    {
     "name": "stdout",
     "output_type": "stream",
     "text": [
      "Password must be at least 8 characters long.\n"
     ]
    },
    {
     "name": "stdin",
     "output_type": "stream",
     "text": [
      "Enter your password:  lightX1\n"
     ]
    },
    {
     "name": "stdout",
     "output_type": "stream",
     "text": [
      "Password must be at least 8 characters long.\n"
     ]
    },
    {
     "name": "stdin",
     "output_type": "stream",
     "text": [
      "Enter your password:  lightX12\n"
     ]
    },
    {
     "name": "stdout",
     "output_type": "stream",
     "text": [
      "Password accepted.\n"
     ]
    }
   ],
   "source": [
    "#96. Password Validator: Write a Python program that takes a password as input and checks if it meets the following criteria: at least 8 characters long, contains both uppercase and lowercase letters, and has at least one digit. If the password is valid, print “Password accepted.” If not, use `continue` to prompt the user to enter a valid password.\n",
    "\n",
    "\n",
    "while True:\n",
    "    password = input(\"Enter your password: \")\n",
    "\n",
    "    if len(password) < 8:\n",
    "        print(\"Password must be at least 8 characters long.\")\n",
    "        continue\n",
    "\n",
    "    if not any(char.islower() for char in password) or not any(char.isupper() for char in password):\n",
    "        print(\"Password must contain both uppercase and lowercase letters.\")\n",
    "        continue\n",
    "\n",
    "    if not any(char.isdigit() for char in password):\n",
    "        print(\"Password must contain at least one digit.\")\n",
    "        continue\n",
    "\n",
    "    print(\"Password accepted.\")\n",
    "    break\n"
   ]
  },
  {
   "cell_type": "code",
   "execution_count": 19,
   "id": "16152e26-58f1-4c95-8c80-af5fc1a4ff71",
   "metadata": {},
   "outputs": [
    {
     "name": "stdout",
     "output_type": "stream",
     "text": [
      "3\n",
      "5\n",
      "6\n",
      "9\n",
      "10\n",
      "12\n",
      "15\n",
      "18\n",
      "20\n",
      "21\n",
      "24\n",
      "25\n",
      "27\n",
      "30\n",
      "33\n",
      "35\n",
      "36\n",
      "39\n",
      "40\n",
      "42\n",
      "45\n",
      "48\n",
      "50\n"
     ]
    }
   ],
   "source": [
    "#97. Divisible by 3 or 5: Write a Python program to print all numbers from 1 to 50 that are divisible by either 3 or 5. Use a `for` loop and `continue` to skip numbers that are not divisible by either 3 or 5.\n",
    "\n",
    "\n",
    "for number in range(1, 51):\n",
    "    if number % 3 != 0 and number % 5 !=0:\n",
    "        continue\n",
    "    \n",
    "    print(number)"
   ]
  },
  {
   "cell_type": "code",
   "execution_count": 22,
   "id": "bf46206a-3731-4c9f-9499-421f6ce6875b",
   "metadata": {},
   "outputs": [
    {
     "name": "stdin",
     "output_type": "stream",
     "text": [
      "Enter a positive number (or a negative number to stop):  44\n",
      "Enter a positive number (or a negative number to stop):  33\n",
      "Enter a positive number (or a negative number to stop):  44\n",
      "Enter a positive number (or a negative number to stop):  55\n",
      "Enter a positive number (or a negative number to stop):  -11\n"
     ]
    },
    {
     "name": "stdout",
     "output_type": "stream",
     "text": [
      "The sum of all positive numbers entered is: 176\n"
     ]
    }
   ],
   "source": [
    "#98. Positive Number Sum: Write a Python program that takes positive numbers as input until a negative number is entered. Then, calculate and print the sum of all positive numbers entered. Use a `while` loop and `break` to exit the loop when a negative number is encountered.\n",
    "\n",
    "\n",
    "sum_positive_numbers = 0\n",
    "\n",
    "while True:\n",
    "    num = int(input(\"Enter a positive number (or a negative number to stop): \"))\n",
    "\n",
    "    if num < 0:\n",
    "        break\n",
    "    \n",
    "    sum_positive_numbers += num\n",
    "\n",
    "print(\"The sum of all positive numbers entered is:\", sum_positive_numbers)\n"
   ]
  },
  {
   "cell_type": "code",
   "execution_count": 23,
   "id": "bde61051-03ce-43e1-b0a6-7dc1a37721bb",
   "metadata": {},
   "outputs": [
    {
     "name": "stdin",
     "output_type": "stream",
     "text": [
      "Enter a word (or type 'exit' to stop):  ana\n"
     ]
    },
    {
     "name": "stdout",
     "output_type": "stream",
     "text": [
      "'ana' is a palindrome.\n"
     ]
    },
    {
     "name": "stdin",
     "output_type": "stream",
     "text": [
      "Enter a word (or type 'exit' to stop):  exit\n"
     ]
    }
   ],
   "source": [
    "#99. Word Palindrome Checker: Write a Python program that takes a word as input and checks if it is a palindrome (reads the same forwards and backward). Use `continue` to skip checking the word if its length is less than 3 characters.\n",
    "\n",
    "\n",
    "while True:\n",
    "    word = input(\"Enter a word (or type 'exit' to stop): \")\n",
    "\n",
    "    if word.lower() == 'exit':\n",
    "        break\n",
    "\n",
    "    if len(word) < 3:\n",
    "        print(\"Word is too short, skipping...\")\n",
    "        continue\n",
    "\n",
    "    if word == word[::-1]:\n",
    "        print(f\"'{word}' is a palindrome.\")\n",
    "    else:\n",
    "        print(f\"'{word}' is not a palindrome.\")\n"
   ]
  },
  {
   "cell_type": "code",
   "execution_count": 24,
   "id": "acc46d31-abad-4933-a39c-bb53610161cd",
   "metadata": {},
   "outputs": [
    {
     "name": "stdout",
     "output_type": "stream",
     "text": [
      "The first odd number is: 3\n"
     ]
    }
   ],
   "source": [
    "#100. Odd Number Finder: Write a Python program to find the first odd number from a list of integers. Use a `for` loop and `break` to stop the loop when the first odd number is found.\n",
    "\n",
    "\n",
    "numbers = [4, 6, 8, 10, 3, 7, 9]\n",
    "\n",
    "for number in numbers:\n",
    "    if number % 2 != 0:\n",
    "        print(f\"The first odd number is: {number}\")\n",
    "        break\n"
   ]
  },
  {
   "cell_type": "code",
   "execution_count": 26,
   "id": "7e312e82-1e55-43d6-83ef-e8859ee25517",
   "metadata": {},
   "outputs": [
    {
     "name": "stdin",
     "output_type": "stream",
     "text": [
      "Guess the number (between 1 and 100):  66\n"
     ]
    },
    {
     "name": "stdout",
     "output_type": "stream",
     "text": [
      "Too high! Try again.\n"
     ]
    },
    {
     "name": "stdin",
     "output_type": "stream",
     "text": [
      "Guess the number (between 1 and 100):  44\n"
     ]
    },
    {
     "name": "stdout",
     "output_type": "stream",
     "text": [
      "Too high! Try again.\n"
     ]
    },
    {
     "name": "stdin",
     "output_type": "stream",
     "text": [
      "Guess the number (between 1 and 100):  22\n"
     ]
    },
    {
     "name": "stdout",
     "output_type": "stream",
     "text": [
      "Too high! Try again.\n"
     ]
    },
    {
     "name": "stdin",
     "output_type": "stream",
     "text": [
      "Guess the number (between 1 and 100):  12\n"
     ]
    },
    {
     "name": "stdout",
     "output_type": "stream",
     "text": [
      "Too high! Try again.\n"
     ]
    },
    {
     "name": "stdin",
     "output_type": "stream",
     "text": [
      "Guess the number (between 1 and 100):  6\n"
     ]
    },
    {
     "name": "stdout",
     "output_type": "stream",
     "text": [
      "Too low! Try again.\n"
     ]
    },
    {
     "name": "stdin",
     "output_type": "stream",
     "text": [
      "Guess the number (between 1 and 100):  8\n"
     ]
    },
    {
     "name": "stdout",
     "output_type": "stream",
     "text": [
      "Too low! Try again.\n"
     ]
    },
    {
     "name": "stdin",
     "output_type": "stream",
     "text": [
      "Guess the number (between 1 and 100):  11\n"
     ]
    },
    {
     "name": "stdout",
     "output_type": "stream",
     "text": [
      "Too high! Try again.\n"
     ]
    },
    {
     "name": "stdin",
     "output_type": "stream",
     "text": [
      "Guess the number (between 1 and 100):  10\n"
     ]
    },
    {
     "name": "stdout",
     "output_type": "stream",
     "text": [
      "Too high! Try again.\n"
     ]
    },
    {
     "name": "stdin",
     "output_type": "stream",
     "text": [
      "Guess the number (between 1 and 100):  9\n"
     ]
    },
    {
     "name": "stdout",
     "output_type": "stream",
     "text": [
      "Congratulations! You guessed the correct number!\n"
     ]
    }
   ],
   "source": [
    "#101. Number Guessing Game: Write a Python program that generates a random number between 1 and 100 and lets the user guess the number. Use a `while` loop, `break` when the correct number is guessed, and `continue` to keep prompting the user until they guess correctly.\n",
    "\n",
    "\n",
    "import random\n",
    "\n",
    "correct_number = random.randint(1, 100)\n",
    "\n",
    "while True:\n",
    "    user_guess = int(input(\"Guess the number (between 1 and 100): \"))\n",
    "\n",
    "    if user_guess == correct_number:\n",
    "        print(\"Congratulations! You guessed the correct number!\")\n",
    "        break\n",
    "    \n",
    "    elif user_guess < correct_number:\n",
    "        print(\"Too low! Try again.\")\n",
    "        continue\n",
    "    \n",
    "    elif user_guess > correct_number:\n",
    "        print(\"Too high! Try again.\")\n",
    "        continue\n"
   ]
  },
  {
   "cell_type": "code",
   "execution_count": 27,
   "id": "af0c0078-0bf1-49e9-8a7f-d2ff867a46d5",
   "metadata": {},
   "outputs": [
    {
     "name": "stdin",
     "output_type": "stream",
     "text": [
      "Enter a string:  light\n"
     ]
    },
    {
     "name": "stdout",
     "output_type": "stream",
     "text": [
      "The number of vowels in the string is: 1\n"
     ]
    }
   ],
   "source": [
    "#102. Vowel Counter: Write a Python program that takes a string as input and counts the number of vowels (a, e, i, o, u) in it. Use a `for` loop and `continue` to skip counting non-vowel characters.\n",
    "\n",
    "\n",
    "input_string = input(\"Enter a string: \")\n",
    "\n",
    "vowel_count = 0\n",
    "\n",
    "vowels = \"aeiouAEIOU\"\n",
    "\n",
    "for char in input_string:\n",
    "    if char not in vowels:\n",
    "        continue\n",
    "    \n",
    "    vowel_count += 1\n",
    "\n",
    "print(f\"The number of vowels in the string is: {vowel_count}\")\n"
   ]
  },
  {
   "cell_type": "code",
   "execution_count": 33,
   "id": "5774f260-992e-4266-bc5b-27beebad8a0b",
   "metadata": {},
   "outputs": [
    {
     "name": "stdin",
     "output_type": "stream",
     "text": [
      "Enter a string:  light\n"
     ]
    },
    {
     "name": "stdout",
     "output_type": "stream",
     "text": [
      "The string has unique characters.\n"
     ]
    },
    {
     "name": "stdin",
     "output_type": "stream",
     "text": [
      "Enter a string:  light leo or\n"
     ]
    },
    {
     "name": "stdout",
     "output_type": "stream",
     "text": [
      "Repeating characters: l,  , o\n"
     ]
    }
   ],
   "source": [
    "#103. Unique Characters: Write a Python program that takes a string as input and checks if it contains all unique characters (no character repeats). Use a `for` loop and `break` when a character repeats.\n",
    "\n",
    "\n",
    "input_string = input(\"Enter a string: \")\n",
    "\n",
    "seen_characters = set()\n",
    "\n",
    "for char in input_string:\n",
    "    if char in seen_characters:\n",
    "        print(f\"'{char}' is a repeating character. The string does not have all the unique characters.\")\n",
    "        break\n",
    "    else:\n",
    "        seen_characters.add(char)\n",
    "\n",
    "else:\n",
    "    print(\"The string has unique characters.\")\n",
    "\n",
    "\n",
    "################################\n",
    "\n",
    "input_strings = input(\"Enter a string: \")\n",
    "\n",
    "seen_character = set()\n",
    "repeating_character = []\n",
    "\n",
    "for char in input_strings:\n",
    "    if char in seen_character:\n",
    "        if char not in repeating_character:\n",
    "            repeating_character.append(char)\n",
    "    else:\n",
    "        seen_character.add(char)\n",
    "\n",
    "if repeating_character:\n",
    "    print(f\"Repeating characters: {', '.join(repeating_character)}\")\n",
    "else:\n",
    "    print(\"The string has all uniques\")"
   ]
  },
  {
   "cell_type": "code",
   "execution_count": 4,
   "id": "415c7da6-92c3-4bfa-bd74-68f4e1e56672",
   "metadata": {},
   "outputs": [
    {
     "name": "stdin",
     "output_type": "stream",
     "text": [
      "Enter a number:  1\n"
     ]
    },
    {
     "name": "stdout",
     "output_type": "stream",
     "text": [
      "fact - while loop 1\n"
     ]
    },
    {
     "name": "stdin",
     "output_type": "stream",
     "text": [
      "Enter a number:  1\n"
     ]
    },
    {
     "name": "stdout",
     "output_type": "stream",
     "text": [
      "Factorial (for loop) of 1: 1\n"
     ]
    },
    {
     "name": "stdin",
     "output_type": "stream",
     "text": [
      "Enter a number:  1\n"
     ]
    },
    {
     "name": "stdout",
     "output_type": "stream",
     "text": [
      "Factorial (recursive) of 1: 1\n"
     ]
    }
   ],
   "source": [
    "#104. Factorial Calculator: Write a Python function called `factorial` that takes an integer as input and returns its factorial. Test the function with different values.\n",
    "\n",
    "\n",
    "def fact(n):\n",
    "    i = 1\n",
    "    f = 1\n",
    "    while i <= n:\n",
    "        f *= i\n",
    "        i += 1\n",
    "    print('fact - while loop: ',f)\n",
    "\n",
    "fact(int(input(\"Enter a number: \")))\n",
    "\n",
    "#################################\n",
    "\n",
    "def fact_for_loop(n):\n",
    "    f = 1\n",
    "\n",
    "    for i in range(1, n + 1):\n",
    "        f *= i\n",
    "    return f\n",
    "\n",
    "n = int(input(\"Enter a number: \"))\n",
    "print(f\"Factorial (for loop) of {n}: {fact_for_loop(n)}\")\n",
    "\n",
    "\n",
    "############################\n",
    "\n",
    "def fact_recursive(n):\n",
    "\n",
    "    if n == 0 or n == 1:\n",
    "        return 1\n",
    "    else:\n",
    "        return n * fact_recursive(n - 1)\n",
    "\n",
    "n = int(input(\"Enter a number: \"))\n",
    "print(f\"Factorial (recursive) of {n}: {fact_recursive(n)}\")\n"
   ]
  },
  {
   "cell_type": "code",
   "execution_count": null,
   "id": "5e253785-cefb-421f-a384-fcf288e9e857",
   "metadata": {},
   "outputs": [],
   "source": [
    "#105. Palindrome Checker: Write a Python function called `is_palindrome` that takes a string as input and returns `True` if it is a palindrome and `False` otherwise. Test the function with different words.\n",
    "\n",
    "\n",
    "def is_palindrome(word):\n",
    "    word = word.lower()\n",
    "    return word == word[::-1]\n",
    "\n",
    "print(is_palindrome(\"madam\"))     # Output: True\n",
    "print(is_palindrome(\"racecar\"))   # Output: True\n",
    "print(is_palindrome(\"hello\"))     # Output: False\n",
    "print(is_palindrome(\"Level\"))     # Output: True (case-insensitive)\n",
    "print(is_palindrome(\"world\"))     # Output: False\n"
   ]
  },
  {
   "cell_type": "code",
   "execution_count": null,
   "id": "3400f9f2-1c1e-48e0-9130-028deb891f70",
   "metadata": {},
   "outputs": [],
   "source": [
    "#106. Even or Odd Checker: Write a Python function called `even_or_odd` that takes an integer as input and returns “Even” if the number is even and “Odd” if the number is odd. Test the function with different numbers.\n",
    "\n",
    "\n",
    "def even_or_odd(number):\n",
    "    if number % 2 == 0:\n",
    "        return \"Even\"\n",
    "    else:\n",
    "        return \"Odd\"\n",
    "\n",
    "print(even_or_odd(10))n  # Output: Eve\n",
    "print(even_or_odd(7))   # Output: Odd\n",
    "print(even_or_odd(0))   # Output: Even\n",
    "print(even_or_odd(-3))  # Output: Odd\n",
    "print(even_or_odd(22))  # Output: Even\n"
   ]
  },
  {
   "cell_type": "code",
   "execution_count": 5,
   "id": "aa6799dd-33d3-47d8-9573-222df6d80706",
   "metadata": {},
   "outputs": [
    {
     "name": "stdout",
     "output_type": "stream",
     "text": [
      "15\n",
      "60\n",
      "-10\n",
      "0\n"
     ]
    }
   ],
   "source": [
    "#107. List Sum Calculator: Write a Python function called `list_sum` that takes a list of integers as input and returns the sum of all elements in the list. Test the function with different lists.\n",
    "\n",
    "\n",
    "def list_sum(numbers):\n",
    "\n",
    "    total = 0\n",
    "\n",
    "    for num in numbers:\n",
    "        total += num\n",
    "    return total\n",
    "\n",
    "\n",
    "print(list_sum([1, 2, 3, 4, 5]))\n",
    "print(list_sum([10, 20, 30]))\n",
    "print(list_sum([-1, -2, -3, -4]))\n",
    "print(list_sum([]))\n"
   ]
  },
  {
   "cell_type": "code",
   "execution_count": 7,
   "id": "5531cb24-a1da-4bd1-8450-66a948fe2f5b",
   "metadata": {},
   "outputs": [
    {
     "name": "stdout",
     "output_type": "stream",
     "text": [
      "6\n",
      "6\n",
      "1\n",
      "20\n"
     ]
    }
   ],
   "source": [
    "#108. Greatest Common Divisor (GCD) Calculator: Write a Python function called `gcd` that takes two integers as input and returns their greatest common divisor. Test the function with different pairs of numbers.\n",
    "\n",
    "\n",
    "def gcd(a, b):\n",
    "    # Use the Euclidean algorithm\n",
    "    while b != 0:\n",
    "        a, b = b, a % b  # Replace a with b, and b with the remainder of a divided by b\n",
    "    return a\n",
    "\n",
    "print(gcd(48, 18))\n",
    "print(gcd(54, 24))\n",
    "print(gcd(101, 10))\n",
    "print(gcd(20, 100))"
   ]
  },
  {
   "cell_type": "code",
   "execution_count": 8,
   "id": "ecffbe2e-e91a-48a1-93e7-62b3a7a2bc61",
   "metadata": {},
   "outputs": [
    {
     "name": "stdout",
     "output_type": "stream",
     "text": [
      "True\n",
      "False\n",
      "True\n",
      "False\n"
     ]
    }
   ],
   "source": [
    "#109. Leap Year Checker: Write a Python function called `is_leap_year` that takes a year as input and returns `True` if it is a leap year and `False` otherwise. Test the function with different years.\n",
    "\n",
    "\n",
    "def is_leap_year(year):\n",
    "    # Check if the year is divisible by 4\n",
    "    if (year % 4 == 0):\n",
    "        # If the year is divisible by 100, it must also be divisible by 400 to be a leap year\n",
    "        if (year % 100 == 0):\n",
    "            if (year % 400 == 0):\n",
    "                return True\n",
    "            else:\n",
    "                return False\n",
    "        else:\n",
    "            return True\n",
    "    else:\n",
    "        return False\n",
    "\n",
    "print(is_leap_year(2020))\n",
    "print(is_leap_year(1900))\n",
    "print(is_leap_year(2000))\n",
    "print(is_leap_year(2023))\n"
   ]
  },
  {
   "cell_type": "code",
   "execution_count": 9,
   "id": "92627f29-8a7e-4c48-b2bc-47815f1d2a24",
   "metadata": {},
   "outputs": [
    {
     "name": "stdout",
     "output_type": "stream",
     "text": [
      "17\n",
      "3\n",
      "100\n",
      "1.0\n",
      "Error: Division by zero is not allowed.\n"
     ]
    }
   ],
   "source": [
    "#110. Math Operations: Write a Python function called `math_operations` that takes three numbers and a string representing an operation (‘add’, ‘subtract’, ‘multiply’, or ‘divide’). The function should return the result of the specified operation on the three numbers. Implement the math operations as nested functions.\n",
    "\n",
    "\n",
    "def math_operations(a, b, c, operation):\n",
    "    \n",
    "    # Nested function to add three numbers\n",
    "    def add(x, y, z):\n",
    "        return x + y + z\n",
    "    \n",
    "    # Nested function to subtract the second and third numbers from the first\n",
    "    def subtract(x, y, z):\n",
    "        return x - y - z\n",
    "    \n",
    "    # Nested function to multiply three numbers\n",
    "    def multiply(x, y, z):\n",
    "        return x * y * z\n",
    "    \n",
    "    # Nested function to divide the first number by the second and then by the third\n",
    "    def divide(x, y, z):\n",
    "        if y == 0 or z == 0:  # Check to avoid division by zero\n",
    "            return \"Error: Division by zero is not allowed.\"\n",
    "        return x / y / z\n",
    "\n",
    "\n",
    "    if operation == 'add':\n",
    "        return add(a, b, c)\n",
    "    elif operation == 'subtract':\n",
    "        return subtract(a, b, c)\n",
    "    elif operation == 'multiply':\n",
    "        return multiply(a, b, c)\n",
    "    elif operation == 'divide':\n",
    "        return divide(a, b, c)\n",
    "    else:\n",
    "        return \"Error: Invalid operation.\"\n",
    "\n",
    "print(math_operations(10, 5, 2, 'add'))\n",
    "print(math_operations(10, 5, 2, 'subtract'))\n",
    "print(math_operations(10, 5, 2, 'multiply'))\n",
    "print(math_operations(10, 5, 2, 'divide'))\n",
    "print(math_operations(10, 0, 2, 'divide'))\n"
   ]
  },
  {
   "cell_type": "code",
   "execution_count": 10,
   "id": "34843876-f09a-443f-8a24-280a5082a8a1",
   "metadata": {},
   "outputs": [
    {
     "name": "stdout",
     "output_type": "stream",
     "text": [
      "Hello, Alice! How are you today?\n",
      "Hello, Bob! How are you today?\n",
      "Hello, Eve! How are you today?\n"
     ]
    }
   ],
   "source": [
    "#111. Greeting Generator: Write a Python function called `greeting_generator` that takes a name as input and returns a greeting message using nested functions. The greeting message should be customizable (e.g., “Hello, {name}! How are you today?”).\n",
    "\n",
    "\n",
    "def greeting_generator(name):\n",
    "    \n",
    "    def create_greeting():\n",
    "        return f\"Hello, {name}! How are you today?\"\n",
    "\n",
    "    return create_greeting()\n",
    "\n",
    "print(greeting_generator(\"Alice\"))  # Output: Hello, Alice! How are you today?\n",
    "print(greeting_generator(\"Bob\"))    # Output: Hello, Bob! How are you today?\n",
    "print(greeting_generator(\"Eve\"))    # Output: Hello, Eve! How are you\n"
   ]
  },
  {
   "cell_type": "code",
   "execution_count": 11,
   "id": "23a158c1-d1a4-41c7-9226-eb2a4be7d5d0",
   "metadata": {},
   "outputs": [
    {
     "name": "stdout",
     "output_type": "stream",
     "text": [
      "212.0\n",
      "0.0\n",
      "32.0\n",
      "100.0\n"
     ]
    }
   ],
   "source": [
    "#112. Temperature Converter: Write a Python function called `temperature_converter` that takes a temperature value and a string representing the scale (‘C’ for Celsius or ‘F’ for Fahrenheit) as input. The function should convert the temperature from one scale to the other using nested functions and return the converted value.\n",
    "\n",
    "\n",
    "def temperature_converter(value, scale):\n",
    "    \n",
    "    def celsius_to_fahrenheit(celsius):\n",
    "        return (celsius * 9/5) + 32\n",
    "\n",
    "    def fahrenheit_to_celsius(fahrenheit):\n",
    "        return (fahrenheit - 32) * 5/9\n",
    "\n",
    "    if scale == 'C':\n",
    "        return celsius_to_fahrenheit(value)  # Convert Celsius to Fahrenheit\n",
    "    elif scale == 'F':\n",
    "        return fahrenheit_to_celsius(value)  # Convert Fahrenheit to Celsius\n",
    "    else:\n",
    "        return \"Invalid scale. Please use 'C' for Celsius or 'F' for Fahrenheit.\"\n",
    "\n",
    "print(temperature_converter(100, 'C'))  # Output: 212.0 (Celsius to Fahrenheit)\n",
    "print(temperature_converter(32, 'F'))   # Output: 0.0 (Fahrenheit to Celsius)\n",
    "print(temperature_converter(0, 'C'))    # Output: 32.0 (Celsius to Fahrenheit)\n",
    "print(temperature_converter(212, 'F'))  # Output: 100.0 (Fahrenheit to Celsius)\n"
   ]
  },
  {
   "cell_type": "code",
   "execution_count": 12,
   "id": "ea2fd62b-eb8d-409e-aaa6-f9462215f00e",
   "metadata": {},
   "outputs": [
    {
     "name": "stdout",
     "output_type": "stream",
     "text": [
      "120\n",
      "1\n",
      "5040\n",
      "1\n"
     ]
    }
   ],
   "source": [
    "#113. Factorial Calculation: Write a recursive Python function called `factorial` that takes a non-negative integer as input and returns its factorial.\n",
    "\n",
    "\n",
    "def factorial(n):\n",
    "    if n == 0 or n == 1:\n",
    "        return 1\n",
    "    else:\n",
    "        return n * factorial(n - 1)\n",
    "\n",
    "print(factorial(5))\n",
    "print(factorial(0))\n",
    "print(factorial(7))\n",
    "print(factorial(1))"
   ]
  },
  {
   "cell_type": "code",
   "execution_count": 14,
   "id": "ba2c3180-d2dc-43b8-9003-36600491ac04",
   "metadata": {},
   "outputs": [
    {
     "name": "stdout",
     "output_type": "stream",
     "text": [
      "0\n",
      "1\n",
      "5\n",
      "13\n",
      "55\n"
     ]
    }
   ],
   "source": [
    "#114. Fibonacci Series: Write a recursive Python function called `Fibonacci` that takes an integer N as input and returns the Nth number in the Fibonacci series. The Fibonacci series is defined as follows: F(0) = 0, F(1) = 1, and F(n) = F(n-1) + F(n-2) for n > 1.\n",
    "\n",
    "\n",
    "def Fibonacci(n):\n",
    "    # Base case: return n if n is 0 or 1\n",
    "    if n == 0:\n",
    "        return 0\n",
    "    elif n == 1:\n",
    "        return 1\n",
    "    else:\n",
    "        # Recursive case: F(n) = F(n-1) + F(n-2)\n",
    "        return Fibonacci(n - 1) + Fibonacci(n - 2)\n",
    "\n",
    "print(Fibonacci(0))  # Output: 0\n",
    "print(Fibonacci(1))  # Output: 1\n",
    "print(Fibonacci(5))  # Output: 5\n",
    "print(Fibonacci(7))  # Output: 13\n",
    "print(Fibonacci(10)) # Output: 55"
   ]
  },
  {
   "cell_type": "code",
   "execution_count": 23,
   "id": "eeffb19f-f6ab-44fd-af37-be2273a090cc",
   "metadata": {},
   "outputs": [
    {
     "name": "stdout",
     "output_type": "stream",
     "text": [
      "10\n",
      "30\n",
      "5\n",
      "2\n"
     ]
    }
   ],
   "source": [
    "#115. The sum of Digits: Write a recursive Python function called `sum_of_digits` that takes an integer as input and returns the sum of its digits.\n",
    "\n",
    "\n",
    "def sum_of_digits(n):\n",
    "    if n == 0:\n",
    "        return 0\n",
    "    else:\n",
    "        return n % 10 + sum_of_digits(n // 10)\n",
    "\n",
    "print(sum_of_digits(1234))\n",
    "print(sum_of_digits(9876))\n",
    "print(sum_of_digits(5))\n",
    "print(sum_of_digits(1001))"
   ]
  },
  {
   "cell_type": "code",
   "execution_count": 25,
   "id": "7c9aa377-b5c1-4a5a-bfb2-b2451891ae74",
   "metadata": {},
   "outputs": [
    {
     "name": "stdout",
     "output_type": "stream",
     "text": [
      "3\n",
      "7\n",
      "0\n",
      "-1\n"
     ]
    }
   ],
   "source": [
    "#116. Binary Search: Write a recursive Python function called `binary_search` that takes a sorted list and a target value as input and returns the index of the target value in the list using binary search. If the target value is not in the list, return -1.\n",
    "\n",
    "\n",
    "\n",
    "def binary_search(arr, target, left, right):\n",
    "\n",
    "    if left > right:\n",
    "        return -1\n",
    "\n",
    "    mid = (left + right) // 2\n",
    "\n",
    "    if arr[mid] == target:\n",
    "        return mid\n",
    "\n",
    "    elif target < arr[mid]:\n",
    "        return binary_search(arr, target, left, mid - 1)\n",
    "\n",
    "    elif target > arr[mid]:\n",
    "        return binary_search(arr, target, mid + 1, right)\n",
    "#wrapper\n",
    "def search(arr, target):\n",
    "    return binary_search(arr, target, 0, len(arr) - 1)\n",
    "\n",
    "sorted_list = [1, 3, 5, 7, 9, 11, 13, 15]\n",
    "print(search(sorted_list, 7))   # Output: 3 (index of 7 in the list)\n",
    "print(search(sorted_list, 15))  # Output: 7 (index of 15 in the list)\n",
    "print(search(sorted_list, 1))   # Output: 0 (index of 1 in the list)\n",
    "print(search(sorted_list, 10))  # Output: -1 (10 is not in the list)"
   ]
  },
  {
   "cell_type": "code",
   "execution_count": 30,
   "id": "9703e983-310f-4519-bc1b-5b41a9fc45b5",
   "metadata": {},
   "outputs": [
    {
     "name": "stdout",
     "output_type": "stream",
     "text": [
      "8\n",
      "1\n",
      "81\n",
      "100\n"
     ]
    }
   ],
   "source": [
    "#117. Power Calculation: Write a recursive Python function called `power` that takes two positive integers, base and exponent, as input and returns the value of base raised to the exponent.\n",
    "\n",
    "\n",
    "def power(base, exponent):\n",
    "    if exponent == 0:\n",
    "        return 1\n",
    "    else:\n",
    "        return base * power(base, exponent - 1)\n",
    "\n",
    "print(power(2, 3))\n",
    "print(power(5, 0))\n",
    "print(power(3, 4))\n",
    "print(power(10, 2))"
   ]
  },
  {
   "cell_type": "code",
   "execution_count": null,
   "id": "009acd7e-647c-49ce-9469-6c5e4473e06d",
   "metadata": {},
   "outputs": [],
   "source": []
  }
 ],
 "metadata": {
  "kernelspec": {
   "display_name": "Python 3 (ipykernel)",
   "language": "python",
   "name": "python3"
  },
  "language_info": {
   "codemirror_mode": {
    "name": "ipython",
    "version": 3
   },
   "file_extension": ".py",
   "mimetype": "text/x-python",
   "name": "python",
   "nbconvert_exporter": "python",
   "pygments_lexer": "ipython3",
   "version": "3.12.4"
  }
 },
 "nbformat": 4,
 "nbformat_minor": 5
}
